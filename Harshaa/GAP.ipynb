{
 "cells": [
  {
   "cell_type": "code",
   "execution_count": 9,
   "metadata": {},
   "outputs": [],
   "source": [
    "import requests,json"
   ]
  },
  {
   "cell_type": "code",
   "execution_count": null,
   "metadata": {},
   "outputs": [],
   "source": [
    "header = {\"Content-Type\" : 'application/json'}"
   ]
  },
  {
   "cell_type": "code",
   "execution_count": 31,
   "metadata": {},
   "outputs": [],
   "source": [
    "response = requests.get(\"https://marketintelligence.shoppertrak.com/geographies\",headers = header).json()"
   ]
  },
  {
   "cell_type": "code",
   "execution_count": 43,
   "metadata": {
    "collapsed": true
   },
   "outputs": [
    {
     "data": {
      "text/plain": [
       "[{'uuid': '6d1175b8-eb06-45ee-9d11-9a63c072f728',\n",
       "  'lastUpdated': '2019-08-16T18:00:00.007Z',\n",
       "  'name': 'US',\n",
       "  'geoType': 'COUNTRY',\n",
       "  'parentUuid': '46a3b5b5-76b6-4419-8038-0b622bc9f7ae',\n",
       "  'childrenUuids': ['ed6b04d2-c55d-418b-9274-77c05e745d4b',\n",
       "   '102cc0f3-e297-4ce3-bb1e-cb192c68eaee',\n",
       "   'b662eb53-9a41-49f0-922a-fde4e4445e84',\n",
       "   '7f420fc1-f8fc-4fd5-8bae-50c3b22c1808']},\n",
       " {'uuid': '4bc60233-93da-410f-87ca-5291e82b94d3',\n",
       "  'lastUpdated': '2019-08-16T18:00:00.007Z',\n",
       "  'name': 'CA',\n",
       "  'geoType': 'COUNTRY',\n",
       "  'parentUuid': '46a3b5b5-76b6-4419-8038-0b622bc9f7ae',\n",
       "  'childrenUuids': ['98ae6cad-c7e7-4fd9-884a-da1510b7d909',\n",
       "   '73aca02d-5aa3-440f-b16a-08a0759b7158',\n",
       "   '09775a60-5af4-4336-9f87-d7dbbd742fda',\n",
       "   '4961ed3f-d978-4910-92b2-1899794b653a',\n",
       "   '61814ff0-f468-4b67-bea4-0a7e6a594c0d',\n",
       "   '44ea761c-c22d-4a2b-a82a-a2df6d055165',\n",
       "   '623a67a2-83d8-4693-a9a0-d4f44bf92c0c',\n",
       "   '502aff54-2962-47a6-ac31-e51c16c11f47']}]"
      ]
     },
     "execution_count": 43,
     "metadata": {},
     "output_type": "execute_result"
    }
   ],
   "source": [
    "geos = list(filter(lambda x: (x['geoType'] == 'COUNTRY') and (x['name'] == 'US' or x['name'] == 'CA')  , response))\n",
    "geos"
   ]
  },
  {
   "cell_type": "code",
   "execution_count": 44,
   "metadata": {},
   "outputs": [],
   "source": [
    "response = requests.get(\"https://marketintelligence.shoppertrak.com/categories\",headers = header).json()"
   ]
  },
  {
   "cell_type": "code",
   "execution_count": 45,
   "metadata": {
    "collapsed": true
   },
   "outputs": [
    {
     "data": {
      "text/plain": [
       "[{'name': 'Total Retail',\n",
       "  'childrenUuids': ['e91b64c7-b80e-4ae7-91a4-5f502c8bac2f',\n",
       "   'f1e73081-f840-4c3f-9ac5-5f9c8bf4a0c2',\n",
       "   'f0889600-22c0-439f-9346-460bcfd0fbf0',\n",
       "   '0d550f49-d1db-49bc-9fc5-ba17fee86ae2',\n",
       "   'ee91c988-d702-471d-847a-ebd4105793ce',\n",
       "   '54b43ad4-605b-4f0b-8605-9b30c8ff3302',\n",
       "   'd61e2b4d-21a9-4607-8f60-47bde9456db2',\n",
       "   'e21c9067-965d-4ac0-bd52-5db0c615a8ee',\n",
       "   '426dc056-ae03-459e-b42e-0cc5bbee1d36',\n",
       "   '67e772c1-15d0-4fe8-a66e-53b5468cdb6d',\n",
       "   'bcdb34e4-463b-4fcb-adfb-6b6fdced98ac',\n",
       "   '035ee28e-34bb-46f8-8053-055f339641f5',\n",
       "   '7a62f872-4bb6-4ce0-8168-6433d5d75af7',\n",
       "   'f92277d8-8412-4bde-bfa0-880c3a50209e',\n",
       "   'abee4054-98d9-4871-ae7e-f92daeee7832',\n",
       "   '1ed6f26e-27b3-418c-83fa-c42d3be04a35',\n",
       "   'c0c976db-3782-4080-aebe-d6ef75927e26',\n",
       "   '3966a075-61ab-4cf4-9d52-43bf5e292e09',\n",
       "   'ae151eb8-369a-4f72-862e-19658f4ec1ba',\n",
       "   '9e4b11e9-b67c-4cee-9cbf-72d3c11c8f12',\n",
       "   '79cb0920-b98e-4097-b669-e12b03f5a004',\n",
       "   'b8ad89ef-98ff-444a-a68c-e7ee9d4ec4ea',\n",
       "   '18d1c8bc-4327-499b-84de-5833bd1e7ee1',\n",
       "   '48e812b7-ab0c-467f-a9f0-6759663a2ead',\n",
       "   'c35cb71f-5dcd-4ae3-86b3-d642208ad7f5',\n",
       "   'e9eae580-00de-4118-8425-3de571ace2de',\n",
       "   'a3291098-cc50-490f-97a3-df8cd45bccc0',\n",
       "   '1ccb97ab-abf6-46bf-8181-349a43ea6f93',\n",
       "   'f2fe9a1a-3a13-44e5-bea3-b28173bca48a',\n",
       "   'ebdf6ebc-505a-4b65-bc92-8392824700a9',\n",
       "   'c2944841-fadc-401a-8099-3b9df5924f5d',\n",
       "   '689fa51d-807b-4b46-a72c-b818979b5a6f'],\n",
       "  'uuid': 'da815dbc-f066-4807-a6ac-ae145e6b6242',\n",
       "  'lastUpdated': '2019-08-16T18:00:01.285Z'},\n",
       " {'name': 'Apparel & Accessories',\n",
       "  'childrenUuids': ['3966a075-61ab-4cf4-9d52-43bf5e292e09',\n",
       "   'ae151eb8-369a-4f72-862e-19658f4ec1ba',\n",
       "   '9e4b11e9-b67c-4cee-9cbf-72d3c11c8f12',\n",
       "   '79cb0920-b98e-4097-b669-e12b03f5a004',\n",
       "   'b8ad89ef-98ff-444a-a68c-e7ee9d4ec4ea',\n",
       "   '48e812b7-ab0c-467f-a9f0-6759663a2ead',\n",
       "   'c35cb71f-5dcd-4ae3-86b3-d642208ad7f5',\n",
       "   'e9eae580-00de-4118-8425-3de571ace2de',\n",
       "   'f2fe9a1a-3a13-44e5-bea3-b28173bca48a'],\n",
       "  'uuid': '44ee7eca-c87b-4c62-94f1-fa65c65a53dc',\n",
       "  'lastUpdated': '2019-08-16T18:00:01.285Z'}]"
      ]
     },
     "execution_count": 45,
     "metadata": {},
     "output_type": "execute_result"
    }
   ],
   "source": [
    "cats = list(filter(lambda x: (x['name'] == 'Total Retail' or x['name'] == 'Apparel & Accessories')  , response))\n",
    "cats"
   ]
  },
  {
   "cell_type": "code",
   "execution_count": 62,
   "metadata": {},
   "outputs": [],
   "source": [
    "request = {\n",
    "  \"subscriptions\": [\n",
    "    {\n",
    "      \"category\": cats[0],\n",
    "      \"geography\": geos[0]\n",
    "    },\n",
    "    {\n",
    "      \"category\": cats[1],\n",
    "      \"geography\": geos[1]\n",
    "    }\n",
    "  ],\n",
    "  \"groupByDateRanges\": [{ #MTD\n",
    "    \"start\": \"2019-08-04T00:00:00.000Z\",\n",
    "    \"end\": \"2019-08-10T23:59:59.999Z\"\n",
    "  }, { #YTD\n",
    "    \"start\": \"2019-02-03T00:00:00.000Z\",\n",
    "    \"end\": \"2019-08-10T23:59:59.999Z\"\n",
    "  }]\n",
    "}"
   ]
  },
  {
   "cell_type": "code",
   "execution_count": 64,
   "metadata": {
    "scrolled": true
   },
   "outputs": [],
   "source": [
    "response = requests.post(\"https://marketintelligence.shoppertrak.com/index\", data = json.dumps(request), headers = header)"
   ]
  },
  {
   "cell_type": "code",
   "execution_count": 65,
   "metadata": {},
   "outputs": [],
   "source": [
    "data = response.json()"
   ]
  },
  {
   "cell_type": "code",
   "execution_count": 66,
   "metadata": {},
   "outputs": [
    {
     "data": {
      "text/plain": [
       "[{'type': 'Index',\n",
       "  'value': -0.044,\n",
       "  'siteCount': 43046,\n",
       "  'siteIds': None,\n",
       "  'debugCalculatorData': None,\n",
       "  'dateStart': '2019-08-04T00:00:00Z',\n",
       "  'dateEnd': '2019-08-10T23:59:59.999Z',\n",
       "  'compDateStart': '2018-08-05T00:00:00Z',\n",
       "  'compDateEnd': '2018-08-11T00:00:00Z',\n",
       "  'errorMessage': None,\n",
       "  'subscription': {'orgId': 0,\n",
       "   'category': {'name': 'Total Retail',\n",
       "    'childrenUuids': ['e91b64c7-b80e-4ae7-91a4-5f502c8bac2f',\n",
       "     'f1e73081-f840-4c3f-9ac5-5f9c8bf4a0c2',\n",
       "     'f0889600-22c0-439f-9346-460bcfd0fbf0',\n",
       "     '0d550f49-d1db-49bc-9fc5-ba17fee86ae2',\n",
       "     'ee91c988-d702-471d-847a-ebd4105793ce',\n",
       "     '54b43ad4-605b-4f0b-8605-9b30c8ff3302',\n",
       "     'd61e2b4d-21a9-4607-8f60-47bde9456db2',\n",
       "     'e21c9067-965d-4ac0-bd52-5db0c615a8ee',\n",
       "     '426dc056-ae03-459e-b42e-0cc5bbee1d36',\n",
       "     '67e772c1-15d0-4fe8-a66e-53b5468cdb6d',\n",
       "     'bcdb34e4-463b-4fcb-adfb-6b6fdced98ac',\n",
       "     '035ee28e-34bb-46f8-8053-055f339641f5',\n",
       "     '7a62f872-4bb6-4ce0-8168-6433d5d75af7',\n",
       "     'f92277d8-8412-4bde-bfa0-880c3a50209e',\n",
       "     'abee4054-98d9-4871-ae7e-f92daeee7832',\n",
       "     '1ed6f26e-27b3-418c-83fa-c42d3be04a35',\n",
       "     'c0c976db-3782-4080-aebe-d6ef75927e26',\n",
       "     '3966a075-61ab-4cf4-9d52-43bf5e292e09',\n",
       "     'ae151eb8-369a-4f72-862e-19658f4ec1ba',\n",
       "     '9e4b11e9-b67c-4cee-9cbf-72d3c11c8f12',\n",
       "     '79cb0920-b98e-4097-b669-e12b03f5a004',\n",
       "     'b8ad89ef-98ff-444a-a68c-e7ee9d4ec4ea',\n",
       "     '18d1c8bc-4327-499b-84de-5833bd1e7ee1',\n",
       "     '48e812b7-ab0c-467f-a9f0-6759663a2ead',\n",
       "     'c35cb71f-5dcd-4ae3-86b3-d642208ad7f5',\n",
       "     'e9eae580-00de-4118-8425-3de571ace2de',\n",
       "     'a3291098-cc50-490f-97a3-df8cd45bccc0',\n",
       "     '1ccb97ab-abf6-46bf-8181-349a43ea6f93',\n",
       "     'f2fe9a1a-3a13-44e5-bea3-b28173bca48a',\n",
       "     'ebdf6ebc-505a-4b65-bc92-8392824700a9',\n",
       "     'c2944841-fadc-401a-8099-3b9df5924f5d',\n",
       "     '689fa51d-807b-4b46-a72c-b818979b5a6f'],\n",
       "    'uuid': 'da815dbc-f066-4807-a6ac-ae145e6b6242',\n",
       "    'lastUpdated': '2019-08-16T18:00:01.285Z'},\n",
       "   'geography': {'uuid': '6d1175b8-eb06-45ee-9d11-9a63c072f728',\n",
       "    'lastUpdated': '2019-08-16T18:00:00.007Z',\n",
       "    'name': 'US',\n",
       "    'geoType': 'COUNTRY',\n",
       "    'parentUuid': '46a3b5b5-76b6-4419-8038-0b622bc9f7ae',\n",
       "    'childrenUuids': ['ed6b04d2-c55d-418b-9274-77c05e745d4b',\n",
       "     '102cc0f3-e297-4ce3-bb1e-cb192c68eaee',\n",
       "     'b662eb53-9a41-49f0-922a-fde4e4445e84',\n",
       "     '7f420fc1-f8fc-4fd5-8bae-50c3b22c1808']},\n",
       "   'reportableSince': None,\n",
       "   'postalCodeReportable': False,\n",
       "   'uuid': 'acc52632-d430-462f-9e1e-8caeac4efbfe',\n",
       "   'lastUpdated': '2019-08-16T20:49:46.895Z'},\n",
       "  'multiSeriesRequest': None,\n",
       "  'valid': True},\n",
       " {'type': 'Index',\n",
       "  'value': -0.053,\n",
       "  'siteCount': 39938,\n",
       "  'siteIds': None,\n",
       "  'debugCalculatorData': None,\n",
       "  'dateStart': '2019-02-03T00:00:00Z',\n",
       "  'dateEnd': '2019-08-10T23:59:59.999Z',\n",
       "  'compDateStart': '2018-02-04T00:00:00Z',\n",
       "  'compDateEnd': '2018-08-11T00:00:00Z',\n",
       "  'errorMessage': None,\n",
       "  'subscription': {'orgId': 0,\n",
       "   'category': {'name': 'Total Retail',\n",
       "    'childrenUuids': ['e91b64c7-b80e-4ae7-91a4-5f502c8bac2f',\n",
       "     'f1e73081-f840-4c3f-9ac5-5f9c8bf4a0c2',\n",
       "     'f0889600-22c0-439f-9346-460bcfd0fbf0',\n",
       "     '0d550f49-d1db-49bc-9fc5-ba17fee86ae2',\n",
       "     'ee91c988-d702-471d-847a-ebd4105793ce',\n",
       "     '54b43ad4-605b-4f0b-8605-9b30c8ff3302',\n",
       "     'd61e2b4d-21a9-4607-8f60-47bde9456db2',\n",
       "     'e21c9067-965d-4ac0-bd52-5db0c615a8ee',\n",
       "     '426dc056-ae03-459e-b42e-0cc5bbee1d36',\n",
       "     '67e772c1-15d0-4fe8-a66e-53b5468cdb6d',\n",
       "     'bcdb34e4-463b-4fcb-adfb-6b6fdced98ac',\n",
       "     '035ee28e-34bb-46f8-8053-055f339641f5',\n",
       "     '7a62f872-4bb6-4ce0-8168-6433d5d75af7',\n",
       "     'f92277d8-8412-4bde-bfa0-880c3a50209e',\n",
       "     'abee4054-98d9-4871-ae7e-f92daeee7832',\n",
       "     '1ed6f26e-27b3-418c-83fa-c42d3be04a35',\n",
       "     'c0c976db-3782-4080-aebe-d6ef75927e26',\n",
       "     '3966a075-61ab-4cf4-9d52-43bf5e292e09',\n",
       "     'ae151eb8-369a-4f72-862e-19658f4ec1ba',\n",
       "     '9e4b11e9-b67c-4cee-9cbf-72d3c11c8f12',\n",
       "     '79cb0920-b98e-4097-b669-e12b03f5a004',\n",
       "     'b8ad89ef-98ff-444a-a68c-e7ee9d4ec4ea',\n",
       "     '18d1c8bc-4327-499b-84de-5833bd1e7ee1',\n",
       "     '48e812b7-ab0c-467f-a9f0-6759663a2ead',\n",
       "     'c35cb71f-5dcd-4ae3-86b3-d642208ad7f5',\n",
       "     'e9eae580-00de-4118-8425-3de571ace2de',\n",
       "     'a3291098-cc50-490f-97a3-df8cd45bccc0',\n",
       "     '1ccb97ab-abf6-46bf-8181-349a43ea6f93',\n",
       "     'f2fe9a1a-3a13-44e5-bea3-b28173bca48a',\n",
       "     'ebdf6ebc-505a-4b65-bc92-8392824700a9',\n",
       "     'c2944841-fadc-401a-8099-3b9df5924f5d',\n",
       "     '689fa51d-807b-4b46-a72c-b818979b5a6f'],\n",
       "    'uuid': 'da815dbc-f066-4807-a6ac-ae145e6b6242',\n",
       "    'lastUpdated': '2019-08-16T18:00:01.285Z'},\n",
       "   'geography': {'uuid': '6d1175b8-eb06-45ee-9d11-9a63c072f728',\n",
       "    'lastUpdated': '2019-08-16T18:00:00.007Z',\n",
       "    'name': 'US',\n",
       "    'geoType': 'COUNTRY',\n",
       "    'parentUuid': '46a3b5b5-76b6-4419-8038-0b622bc9f7ae',\n",
       "    'childrenUuids': ['ed6b04d2-c55d-418b-9274-77c05e745d4b',\n",
       "     '102cc0f3-e297-4ce3-bb1e-cb192c68eaee',\n",
       "     'b662eb53-9a41-49f0-922a-fde4e4445e84',\n",
       "     '7f420fc1-f8fc-4fd5-8bae-50c3b22c1808']},\n",
       "   'reportableSince': None,\n",
       "   'postalCodeReportable': False,\n",
       "   'uuid': 'acc52632-d430-462f-9e1e-8caeac4efbfe',\n",
       "   'lastUpdated': '2019-08-16T20:49:46.895Z'},\n",
       "  'multiSeriesRequest': None,\n",
       "  'valid': True},\n",
       " {'type': 'Index',\n",
       "  'value': -0.015,\n",
       "  'siteCount': 1412,\n",
       "  'siteIds': None,\n",
       "  'debugCalculatorData': None,\n",
       "  'dateStart': '2019-08-04T00:00:00Z',\n",
       "  'dateEnd': '2019-08-10T23:59:59.999Z',\n",
       "  'compDateStart': '2018-08-05T00:00:00Z',\n",
       "  'compDateEnd': '2018-08-11T00:00:00Z',\n",
       "  'errorMessage': None,\n",
       "  'subscription': {'orgId': 0,\n",
       "   'category': {'name': 'Apparel & Accessories',\n",
       "    'childrenUuids': ['3966a075-61ab-4cf4-9d52-43bf5e292e09',\n",
       "     'ae151eb8-369a-4f72-862e-19658f4ec1ba',\n",
       "     '9e4b11e9-b67c-4cee-9cbf-72d3c11c8f12',\n",
       "     '79cb0920-b98e-4097-b669-e12b03f5a004',\n",
       "     'b8ad89ef-98ff-444a-a68c-e7ee9d4ec4ea',\n",
       "     '48e812b7-ab0c-467f-a9f0-6759663a2ead',\n",
       "     'c35cb71f-5dcd-4ae3-86b3-d642208ad7f5',\n",
       "     'e9eae580-00de-4118-8425-3de571ace2de',\n",
       "     'f2fe9a1a-3a13-44e5-bea3-b28173bca48a'],\n",
       "    'uuid': '44ee7eca-c87b-4c62-94f1-fa65c65a53dc',\n",
       "    'lastUpdated': '2019-08-16T18:00:01.285Z'},\n",
       "   'geography': {'uuid': '4bc60233-93da-410f-87ca-5291e82b94d3',\n",
       "    'lastUpdated': '2019-08-16T18:00:00.007Z',\n",
       "    'name': 'CA',\n",
       "    'geoType': 'COUNTRY',\n",
       "    'parentUuid': '46a3b5b5-76b6-4419-8038-0b622bc9f7ae',\n",
       "    'childrenUuids': ['98ae6cad-c7e7-4fd9-884a-da1510b7d909',\n",
       "     '73aca02d-5aa3-440f-b16a-08a0759b7158',\n",
       "     '09775a60-5af4-4336-9f87-d7dbbd742fda',\n",
       "     '4961ed3f-d978-4910-92b2-1899794b653a',\n",
       "     '61814ff0-f468-4b67-bea4-0a7e6a594c0d',\n",
       "     '44ea761c-c22d-4a2b-a82a-a2df6d055165',\n",
       "     '623a67a2-83d8-4693-a9a0-d4f44bf92c0c',\n",
       "     '502aff54-2962-47a6-ac31-e51c16c11f47']},\n",
       "   'reportableSince': None,\n",
       "   'postalCodeReportable': False,\n",
       "   'uuid': '31f10ed0-b269-4fbc-842c-1b24729901d9',\n",
       "   'lastUpdated': '2019-08-16T20:49:46.895Z'},\n",
       "  'multiSeriesRequest': None,\n",
       "  'valid': True},\n",
       " {'type': 'Index',\n",
       "  'value': -0.03,\n",
       "  'siteCount': 1333,\n",
       "  'siteIds': None,\n",
       "  'debugCalculatorData': None,\n",
       "  'dateStart': '2019-02-03T00:00:00Z',\n",
       "  'dateEnd': '2019-08-10T23:59:59.999Z',\n",
       "  'compDateStart': '2018-02-04T00:00:00Z',\n",
       "  'compDateEnd': '2018-08-11T00:00:00Z',\n",
       "  'errorMessage': None,\n",
       "  'subscription': {'orgId': 0,\n",
       "   'category': {'name': 'Apparel & Accessories',\n",
       "    'childrenUuids': ['3966a075-61ab-4cf4-9d52-43bf5e292e09',\n",
       "     'ae151eb8-369a-4f72-862e-19658f4ec1ba',\n",
       "     '9e4b11e9-b67c-4cee-9cbf-72d3c11c8f12',\n",
       "     '79cb0920-b98e-4097-b669-e12b03f5a004',\n",
       "     'b8ad89ef-98ff-444a-a68c-e7ee9d4ec4ea',\n",
       "     '48e812b7-ab0c-467f-a9f0-6759663a2ead',\n",
       "     'c35cb71f-5dcd-4ae3-86b3-d642208ad7f5',\n",
       "     'e9eae580-00de-4118-8425-3de571ace2de',\n",
       "     'f2fe9a1a-3a13-44e5-bea3-b28173bca48a'],\n",
       "    'uuid': '44ee7eca-c87b-4c62-94f1-fa65c65a53dc',\n",
       "    'lastUpdated': '2019-08-16T18:00:01.285Z'},\n",
       "   'geography': {'uuid': '4bc60233-93da-410f-87ca-5291e82b94d3',\n",
       "    'lastUpdated': '2019-08-16T18:00:00.007Z',\n",
       "    'name': 'CA',\n",
       "    'geoType': 'COUNTRY',\n",
       "    'parentUuid': '46a3b5b5-76b6-4419-8038-0b622bc9f7ae',\n",
       "    'childrenUuids': ['98ae6cad-c7e7-4fd9-884a-da1510b7d909',\n",
       "     '73aca02d-5aa3-440f-b16a-08a0759b7158',\n",
       "     '09775a60-5af4-4336-9f87-d7dbbd742fda',\n",
       "     '4961ed3f-d978-4910-92b2-1899794b653a',\n",
       "     '61814ff0-f468-4b67-bea4-0a7e6a594c0d',\n",
       "     '44ea761c-c22d-4a2b-a82a-a2df6d055165',\n",
       "     '623a67a2-83d8-4693-a9a0-d4f44bf92c0c',\n",
       "     '502aff54-2962-47a6-ac31-e51c16c11f47']},\n",
       "   'reportableSince': None,\n",
       "   'postalCodeReportable': False,\n",
       "   'uuid': '31f10ed0-b269-4fbc-842c-1b24729901d9',\n",
       "   'lastUpdated': '2019-08-16T20:49:46.895Z'},\n",
       "  'multiSeriesRequest': None,\n",
       "  'valid': True}]"
      ]
     },
     "execution_count": 66,
     "metadata": {},
     "output_type": "execute_result"
    }
   ],
   "source": [
    "data"
   ]
  },
  {
   "cell_type": "code",
   "execution_count": null,
   "metadata": {},
   "outputs": [],
   "source": []
  },
  {
   "cell_type": "code",
   "execution_count": 68,
   "metadata": {},
   "outputs": [
    {
     "data": {
      "text/plain": [
       "datetime.date(2019, 2, 3)"
      ]
     },
     "execution_count": 68,
     "metadata": {},
     "output_type": "execute_result"
    }
   ],
   "source": [
    "year_start = datetime.date(2019,2,3) # feb third\n",
    "year_start"
   ]
  },
  {
   "cell_type": "code",
   "execution_count": 71,
   "metadata": {},
   "outputs": [],
   "source": [
    "run_date = datetime.date(2019,8,10) # datetime.date.today() - datetime.timedelta(days=2)"
   ]
  },
  {
   "cell_type": "code",
   "execution_count": null,
   "metadata": {},
   "outputs": [],
   "source": [
    "year_start,run_date#ytd\n"
   ]
  },
  {
   "cell_type": "code",
   "execution_count": null,
   "metadata": {},
   "outputs": [],
   "source": []
  }
 ],
 "metadata": {
  "kernelspec": {
   "display_name": "Python 3",
   "language": "python",
   "name": "python3"
  },
  "language_info": {
   "codemirror_mode": {
    "name": "ipython",
    "version": 3
   },
   "file_extension": ".py",
   "mimetype": "text/x-python",
   "name": "python",
   "nbconvert_exporter": "python",
   "pygments_lexer": "ipython3",
   "version": "3.7.1"
  }
 },
 "nbformat": 4,
 "nbformat_minor": 2
}
