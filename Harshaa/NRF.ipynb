{
 "cells": [
  {
   "cell_type": "code",
   "execution_count": 1,
   "metadata": {},
   "outputs": [],
   "source": [
    "from utils import *\n",
    "identity,siteref,market_intelligence,exl_tag = init()"
   ]
  },
  {
   "cell_type": "code",
   "execution_count": 2,
   "metadata": {},
   "outputs": [
    {
     "data": {
      "text/html": [
       "<div>\n",
       "<style scoped>\n",
       "    .dataframe tbody tr th:only-of-type {\n",
       "        vertical-align: middle;\n",
       "    }\n",
       "\n",
       "    .dataframe tbody tr th {\n",
       "        vertical-align: top;\n",
       "    }\n",
       "\n",
       "    .dataframe thead th {\n",
       "        text-align: right;\n",
       "    }\n",
       "</style>\n",
       "<table border=\"1\" class=\"dataframe\">\n",
       "  <thead>\n",
       "    <tr style=\"text-align: right;\">\n",
       "      <th></th>\n",
       "      <th>month_mask</th>\n",
       "      <th>name</th>\n",
       "      <th>start_date</th>\n",
       "      <th>year</th>\n",
       "    </tr>\n",
       "  </thead>\n",
       "  <tbody>\n",
       "    <tr>\n",
       "      <th>0</th>\n",
       "      <td>[4, 5, 4, 4, 5, 4, 4, 5, 4, 4, 5, 4]</td>\n",
       "      <td>NRF Calendar</td>\n",
       "      <td>2019-02-03</td>\n",
       "      <td>2019</td>\n",
       "    </tr>\n",
       "  </tbody>\n",
       "</table>\n",
       "</div>"
      ],
      "text/plain": [
       "                             month_mask          name start_date  year\n",
       "0  [4, 5, 4, 4, 5, 4, 4, 5, 4, 4, 5, 4]  NRF Calendar 2019-02-03  2019"
      ]
     },
     "execution_count": 2,
     "metadata": {},
     "output_type": "execute_result"
    }
   ],
   "source": [
    "NRF_2019 = pd.DataFrame(list(identity['calendars'].aggregate([\n",
    "{\"$match\":{\"name\":\"NRF Calendar\"}},\n",
    "{\"$unwind\":\"$years\"},\n",
    "{\"$match\":{\"years.year\":2019}},\n",
    "{\"$project\":{\"_id\":0,\"name\":1,\"year\":\"$years.year\",\"start_date\":\"$years.start_date\",\"month_mask\":\"$years.month_mask\"}}\n",
    "])))\n",
    "NRF_2019"
   ]
  },
  {
   "cell_type": "code",
   "execution_count": 3,
   "metadata": {},
   "outputs": [],
   "source": [
    "report_for = 7 #July"
   ]
  },
  {
   "cell_type": "code",
   "execution_count": 9,
   "metadata": {},
   "outputs": [
    {
     "name": "stdout",
     "output_type": "stream",
     "text": [
      "7\n"
     ]
    },
    {
     "data": {
      "text/plain": [
       "[2, 3, 4, 5, 6]"
      ]
     },
     "execution_count": 9,
     "metadata": {},
     "output_type": "execute_result"
    }
   ],
   "source": [
    "b= [2,3,4,5,6,7,8,9,10,11,12,1] # example NRF starting in Feb \n",
    "print(b[report_for-NRF_2019.start_date[0].month]) # current month\n",
    "b[:report_for-NRF_2019.start_date[0].month] #from the start of the year to last month "
   ]
  },
  {
   "cell_type": "code",
   "execution_count": 11,
   "metadata": {},
   "outputs": [
    {
     "data": {
      "text/plain": [
       "Timestamp('2019-07-07 00:00:00')"
      ]
     },
     "execution_count": 11,
     "metadata": {},
     "output_type": "execute_result"
    }
   ],
   "source": [
    "#year start + past weeks\n",
    "NRF_2019.start_date[0] + datetime.timedelta(weeks = sum(NRF_2019.month_mask[0][:report_for-NRF_2019.start_date[0].month]))"
   ]
  },
  {
   "cell_type": "code",
   "execution_count": 12,
   "metadata": {},
   "outputs": [
    {
     "data": {
      "text/plain": [
       "(Timestamp('2019-07-07 00:00:00'), Timestamp('2019-08-04 00:00:00'))"
      ]
     },
     "execution_count": 12,
     "metadata": {},
     "output_type": "execute_result"
    }
   ],
   "source": [
    "#year start + past weeks : to report month\n",
    "current_start = NRF_2019.start_date[0] + datetime.timedelta(weeks = sum(NRF_2019.month_mask[0][:report_for-NRF_2019.start_date[0].month]))\n",
    "current_end = current_start + datetime.timedelta(weeks = NRF_2019.month_mask[0][report_for-NRF_2019.start_date[0].month])\n",
    "current_start,current_end"
   ]
  },
  {
   "cell_type": "code",
   "execution_count": 13,
   "metadata": {},
   "outputs": [
    {
     "data": {
      "text/plain": [
       "[Timestamp('2019-07-07 00:00:00', freq='D'),\n",
       " Timestamp('2019-07-08 00:00:00', freq='D'),\n",
       " Timestamp('2019-07-09 00:00:00', freq='D'),\n",
       " Timestamp('2019-07-10 00:00:00', freq='D'),\n",
       " Timestamp('2019-07-11 00:00:00', freq='D'),\n",
       " Timestamp('2019-07-12 00:00:00', freq='D'),\n",
       " Timestamp('2019-07-13 00:00:00', freq='D'),\n",
       " Timestamp('2019-07-14 00:00:00', freq='D'),\n",
       " Timestamp('2019-07-15 00:00:00', freq='D'),\n",
       " Timestamp('2019-07-16 00:00:00', freq='D'),\n",
       " Timestamp('2019-07-17 00:00:00', freq='D'),\n",
       " Timestamp('2019-07-18 00:00:00', freq='D'),\n",
       " Timestamp('2019-07-19 00:00:00', freq='D'),\n",
       " Timestamp('2019-07-20 00:00:00', freq='D'),\n",
       " Timestamp('2019-07-21 00:00:00', freq='D'),\n",
       " Timestamp('2019-07-22 00:00:00', freq='D'),\n",
       " Timestamp('2019-07-23 00:00:00', freq='D'),\n",
       " Timestamp('2019-07-24 00:00:00', freq='D'),\n",
       " Timestamp('2019-07-25 00:00:00', freq='D'),\n",
       " Timestamp('2019-07-26 00:00:00', freq='D'),\n",
       " Timestamp('2019-07-27 00:00:00', freq='D'),\n",
       " Timestamp('2019-07-28 00:00:00', freq='D'),\n",
       " Timestamp('2019-07-29 00:00:00', freq='D'),\n",
       " Timestamp('2019-07-30 00:00:00', freq='D'),\n",
       " Timestamp('2019-07-31 00:00:00', freq='D'),\n",
       " Timestamp('2019-08-01 00:00:00', freq='D'),\n",
       " Timestamp('2019-08-02 00:00:00', freq='D'),\n",
       " Timestamp('2019-08-03 00:00:00', freq='D')]"
      ]
     },
     "execution_count": 13,
     "metadata": {},
     "output_type": "execute_result"
    }
   ],
   "source": [
    "pd.date_range(current_start,current_end)[:-1].tolist() # genrate dates and discard last one as it'll be counted in next week"
   ]
  }
 ],
 "metadata": {
  "kernelspec": {
   "display_name": "Python 3",
   "language": "python",
   "name": "python3"
  },
  "language_info": {
   "codemirror_mode": {
    "name": "ipython",
    "version": 3
   },
   "file_extension": ".py",
   "mimetype": "text/x-python",
   "name": "python",
   "nbconvert_exporter": "python",
   "pygments_lexer": "ipython3",
   "version": "3.7.1"
  }
 },
 "nbformat": 4,
 "nbformat_minor": 2
}
