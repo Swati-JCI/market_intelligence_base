{
 "cells": [
  {
   "cell_type": "code",
   "execution_count": 6,
   "metadata": {},
   "outputs": [],
   "source": [
    "from utils import *"
   ]
  },
  {
   "cell_type": "code",
   "execution_count": 7,
   "metadata": {},
   "outputs": [],
   "source": [
    "identity,siteref,market_intelligence,exl_tag = init()"
   ]
  },
  {
   "cell_type": "code",
   "execution_count": null,
   "metadata": {},
   "outputs": [],
   "source": []
  },
  {
   "cell_type": "code",
   "execution_count": 85,
   "metadata": {},
   "outputs": [],
   "source": [
    "zip_cbsa_mkt_v3 =  pd.DataFrame(list(market_intelligence['zip_cbsa_mkt_v3'].find()))\n",
    "zip_cbsa_mkt_v3.to_excel(datetime.date.today().strftime('%m%d%Y')+'_zip_cbsa_mkt_v3.xlsx',index=False)"
   ]
  },
  {
   "cell_type": "code",
   "execution_count": 86,
   "metadata": {},
   "outputs": [],
   "source": [
    "ReportabilityCollection_v1 =  pd.DataFrame(list(market_intelligence['ReportabilityCollection_v1'].find()))\n",
    "ReportabilityCollection_v1.to_excel(datetime.date.today().strftime('%m%d%Y')+'_ReportabilityCollection_v1.xlsx',index=False)"
   ]
  },
  {
   "cell_type": "code",
   "execution_count": 5,
   "metadata": {},
   "outputs": [],
   "source": [
    "EXL_Reports_Metadata =  pd.DataFrame(list(exl_tag['EXL_Reports_Metadata'].find()))\n",
    "EXL_Reports_Metadata.to_excel(datetime.date.today().strftime('%m%d%Y')+'_EXL_Reports_Metadata.xlsx',index=False)"
   ]
  },
  {
   "cell_type": "code",
   "execution_count": null,
   "metadata": {},
   "outputs": [],
   "source": []
  },
  {
   "cell_type": "code",
   "execution_count": 19,
   "metadata": {},
   "outputs": [],
   "source": [
    "adidas_top25 =  pd.DataFrame(list(identity['sites'].aggregate([\n",
    "{\"$match\": {\"$and\" :\n",
    "    [{\"$or\":[\n",
    "        {'address.country_code':'US','address.postal_code':'10012'},\n",
    "        {'address.country_code':'US','address.postal_code':'10017'},\n",
    "        {'address.country_code':'US','address.postal_code':'32819'},\n",
    "        {'address.country_code':'US','address.postal_code':'32821'},\n",
    "        {'address.country_code':'US','address.postal_code':'77056'},\n",
    "        {'address.country_code':'US','address.postal_code':'89106'},\n",
    "        {'address.country_code':'US','address.postal_code':'89109'},\n",
    "        {'address.country_code':'US','address.postal_code':'94103'},\n",
    "        \n",
    "        {'address.country_code':'JP','address.postal_code':'1600022'},\n",
    "        {'address.country_code':'JP','address.postal_code':'4120023'},\n",
    "        {'address.country_code':'ES','address.postal_code':'08007'},\n",
    "        {'address.country_code':'ES','address.postal_code':'28013'},\n",
    "        {'address.country_code':'DE','address.postal_code':'10789'},\n",
    "        {'address.country_code':'DE','address.postal_code':'91074'},\n",
    "        {'address.country_code':'CN','address.postal_code':'200000'},\n",
    "        {'address.country_code':'CN','address.postal_code':'201704'},\n",
    "        \n",
    "        {'address.country_code':'IT','address.postal_code':'20122'},\n",
    "        {'address.country_code':'GB','address.postal_code':'W1C 2PG'},\n",
    "        {'address.country_code':'NL','address.postal_code':'6041 TP'},\n",
    "        {'address.country_code':'AT','address.postal_code':'7111'},\n",
    "        {'address.country_code':'FR','address.postal_code':'75008'},\n",
    "        \n",
    "        ]},\n",
    "    {\"data_released\":True},\n",
    "    {\"type\":\"Retailer\"}\n",
    "    ]}},\n",
    "{\"$project\":{\"_id\":0 , \"data_released\":1,\"site_id\":1,\"name\":1,\"type\":1,\n",
    "    \"org_id\":\"$organization.id\", \"org_name\":\"$organization.name\",\n",
    "    \"address_1\":\"$address.address_1\",\"address_2\":\"$address.address_2\",\"city\":\"$address.city\",\"state\":\"$address.state\",\"country\":\"$address.country\",\"ctry_cd\":\"$address.country_code\",\"postal_code\":\"$address.postal_code\"}}\n",
    "\n",
    "])))"
   ]
  },
  {
   "cell_type": "code",
   "execution_count": 20,
   "metadata": {},
   "outputs": [],
   "source": [
    "adidas_top25.to_excel(datetime.date.today().strftime('%m%d%Y')+'_adidas_top25.xlsx',index=False)"
   ]
  },
  {
   "cell_type": "code",
   "execution_count": 21,
   "metadata": {},
   "outputs": [
    {
     "data": {
      "text/html": [
       "<div>\n",
       "<style scoped>\n",
       "    .dataframe tbody tr th:only-of-type {\n",
       "        vertical-align: middle;\n",
       "    }\n",
       "\n",
       "    .dataframe tbody tr th {\n",
       "        vertical-align: top;\n",
       "    }\n",
       "\n",
       "    .dataframe thead th {\n",
       "        text-align: right;\n",
       "    }\n",
       "</style>\n",
       "<table border=\"1\" class=\"dataframe\">\n",
       "  <thead>\n",
       "    <tr style=\"text-align: right;\">\n",
       "      <th></th>\n",
       "      <th>address_1</th>\n",
       "      <th>address_2</th>\n",
       "      <th>city</th>\n",
       "      <th>country</th>\n",
       "      <th>ctry_cd</th>\n",
       "      <th>data_released</th>\n",
       "      <th>name</th>\n",
       "      <th>org_id</th>\n",
       "      <th>org_name</th>\n",
       "      <th>postal_code</th>\n",
       "      <th>site_id</th>\n",
       "      <th>state</th>\n",
       "      <th>type</th>\n",
       "    </tr>\n",
       "  </thead>\n",
       "  <tbody>\n",
       "    <tr>\n",
       "      <th>0</th>\n",
       "      <td>3200 Las Vegas Blvd</td>\n",
       "      <td>Suite 1175</td>\n",
       "      <td>Las Vegas</td>\n",
       "      <td>United States</td>\n",
       "      <td>US</td>\n",
       "      <td>True</td>\n",
       "      <td>0101 - FASHNSHWM/LASVEGAS NV0101</td>\n",
       "      <td>5349</td>\n",
       "      <td>Chico's FAS, Inc</td>\n",
       "      <td>89109</td>\n",
       "      <td>10093927</td>\n",
       "      <td>NV</td>\n",
       "      <td>Retailer</td>\n",
       "    </tr>\n",
       "    <tr>\n",
       "      <th>1</th>\n",
       "      <td>855 S Grand Central Pkwy</td>\n",
       "      <td>Suite 1575</td>\n",
       "      <td>Las Vegas</td>\n",
       "      <td>United States</td>\n",
       "      <td>US</td>\n",
       "      <td>True</td>\n",
       "      <td>0426 - LASVEGAS PREM OUTL NV0426</td>\n",
       "      <td>5349</td>\n",
       "      <td>Chico's FAS, Inc</td>\n",
       "      <td>89106</td>\n",
       "      <td>81396</td>\n",
       "      <td>NV</td>\n",
       "      <td>Retailer</td>\n",
       "    </tr>\n",
       "    <tr>\n",
       "      <th>2</th>\n",
       "      <td>5061 Westheimer Road</td>\n",
       "      <td>None</td>\n",
       "      <td>Houston</td>\n",
       "      <td>United States</td>\n",
       "      <td>US</td>\n",
       "      <td>True</td>\n",
       "      <td>0600 - HOUSTON GALLERIA TX0600</td>\n",
       "      <td>5349</td>\n",
       "      <td>Chico's FAS, Inc</td>\n",
       "      <td>77056</td>\n",
       "      <td>76637</td>\n",
       "      <td>TX</td>\n",
       "      <td>Retailer</td>\n",
       "    </tr>\n",
       "    <tr>\n",
       "      <th>3</th>\n",
       "      <td>4957 International Drive</td>\n",
       "      <td>Suite 1D-27</td>\n",
       "      <td>Orlando</td>\n",
       "      <td>United States</td>\n",
       "      <td>US</td>\n",
       "      <td>True</td>\n",
       "      <td>0715 - PRIMEOUTLT ORLANDO FL0715</td>\n",
       "      <td>5349</td>\n",
       "      <td>Chico's FAS, Inc</td>\n",
       "      <td>32819</td>\n",
       "      <td>81531</td>\n",
       "      <td>FL</td>\n",
       "      <td>Retailer</td>\n",
       "    </tr>\n",
       "    <tr>\n",
       "      <th>4</th>\n",
       "      <td>3200 Las Vegas Blvd S.</td>\n",
       "      <td>Suite 1425</td>\n",
       "      <td>Las Vegas</td>\n",
       "      <td>United States</td>\n",
       "      <td>US</td>\n",
       "      <td>True</td>\n",
       "      <td>3102 - FASHNSHWM/LASVEGAS NV3102</td>\n",
       "      <td>5349</td>\n",
       "      <td>Chico's FAS, Inc</td>\n",
       "      <td>89109</td>\n",
       "      <td>10093906</td>\n",
       "      <td>NV</td>\n",
       "      <td>Retailer</td>\n",
       "    </tr>\n",
       "  </tbody>\n",
       "</table>\n",
       "</div>"
      ],
      "text/plain": [
       "                  address_1    address_2       city        country ctry_cd  \\\n",
       "0       3200 Las Vegas Blvd   Suite 1175  Las Vegas  United States      US   \n",
       "1  855 S Grand Central Pkwy   Suite 1575  Las Vegas  United States      US   \n",
       "2      5061 Westheimer Road         None    Houston  United States      US   \n",
       "3  4957 International Drive  Suite 1D-27    Orlando  United States      US   \n",
       "4    3200 Las Vegas Blvd S.   Suite 1425  Las Vegas  United States      US   \n",
       "\n",
       "   data_released                              name  org_id          org_name  \\\n",
       "0           True  0101 - FASHNSHWM/LASVEGAS NV0101    5349  Chico's FAS, Inc   \n",
       "1           True  0426 - LASVEGAS PREM OUTL NV0426    5349  Chico's FAS, Inc   \n",
       "2           True    0600 - HOUSTON GALLERIA TX0600    5349  Chico's FAS, Inc   \n",
       "3           True  0715 - PRIMEOUTLT ORLANDO FL0715    5349  Chico's FAS, Inc   \n",
       "4           True  3102 - FASHNSHWM/LASVEGAS NV3102    5349  Chico's FAS, Inc   \n",
       "\n",
       "  postal_code   site_id state      type  \n",
       "0       89109  10093927    NV  Retailer  \n",
       "1       89106     81396    NV  Retailer  \n",
       "2       77056     76637    TX  Retailer  \n",
       "3       32819     81531    FL  Retailer  \n",
       "4       89109  10093906    NV  Retailer  "
      ]
     },
     "execution_count": 21,
     "metadata": {},
     "output_type": "execute_result"
    }
   ],
   "source": [
    "adidas_top25.head()"
   ]
  },
  {
   "cell_type": "code",
   "execution_count": 29,
   "metadata": {
    "scrolled": true
   },
   "outputs": [
    {
     "data": {
      "text/html": [
       "<div>\n",
       "<style scoped>\n",
       "    .dataframe tbody tr th:only-of-type {\n",
       "        vertical-align: middle;\n",
       "    }\n",
       "\n",
       "    .dataframe tbody tr th {\n",
       "        vertical-align: top;\n",
       "    }\n",
       "\n",
       "    .dataframe thead th {\n",
       "        text-align: right;\n",
       "    }\n",
       "</style>\n",
       "<table border=\"1\" class=\"dataframe\">\n",
       "  <thead>\n",
       "    <tr style=\"text-align: right;\">\n",
       "      <th></th>\n",
       "      <th>CATEGORY_NAME</th>\n",
       "      <th>site_id</th>\n",
       "    </tr>\n",
       "  </thead>\n",
       "  <tbody>\n",
       "    <tr>\n",
       "      <th>0</th>\n",
       "      <td>Housewares</td>\n",
       "      <td>80053913</td>\n",
       "    </tr>\n",
       "    <tr>\n",
       "      <th>1</th>\n",
       "      <td>Housewares</td>\n",
       "      <td>80047846</td>\n",
       "    </tr>\n",
       "    <tr>\n",
       "      <th>2</th>\n",
       "      <td>Housewares</td>\n",
       "      <td>80055877</td>\n",
       "    </tr>\n",
       "    <tr>\n",
       "      <th>3</th>\n",
       "      <td>Housewares</td>\n",
       "      <td>80078126</td>\n",
       "    </tr>\n",
       "    <tr>\n",
       "      <th>4</th>\n",
       "      <td>Housewares</td>\n",
       "      <td>80133056</td>\n",
       "    </tr>\n",
       "  </tbody>\n",
       "</table>\n",
       "</div>"
      ],
      "text/plain": [
       "  CATEGORY_NAME   site_id\n",
       "0    Housewares  80053913\n",
       "1    Housewares  80047846\n",
       "2    Housewares  80055877\n",
       "3    Housewares  80078126\n",
       "4    Housewares  80133056"
      ]
     },
     "execution_count": 29,
     "metadata": {},
     "output_type": "execute_result"
    }
   ],
   "source": [
    "categories = pd.DataFrame(list(exl_tag['sitecategories'].aggregate([{\"$unwind\":\"$Sites\"},\n",
    "{\"$match\":{\"Sites\":{\"$in\":list(adidas_top25.site_id)}}},\n",
    "{\"$project\":{\"_id\":0,\"site_id\":\"$Sites\",\"CATEGORY_NAME\":1}} ]) ))\n",
    "categories.head()"
   ]
  },
  {
   "cell_type": "code",
   "execution_count": 35,
   "metadata": {
    "scrolled": true
   },
   "outputs": [],
   "source": [
    "adidas_top25_cats = adidas_top25.merge(categories,on=\"site_id\")\n",
    "adidas_top25_cats.to_excel(datetime.date.today().strftime('%m%d%Y')+'_adidas_top25_cats.xlsx',index=False,columns=adidas_top25_cats.columns)"
   ]
  },
  {
   "cell_type": "code",
   "execution_count": null,
   "metadata": {},
   "outputs": [],
   "source": []
  },
  {
   "cell_type": "code",
   "execution_count": null,
   "metadata": {},
   "outputs": [],
   "source": []
  },
  {
   "cell_type": "code",
   "execution_count": 72,
   "metadata": {},
   "outputs": [],
   "source": [
    "ExcludedOrgs =  pd.DataFrame(list(market_intelligence['ExcludedOrgs'].aggregate([\n",
    "{\"$match\":{\"Country\":{\"$in\":[\"FR\",\"BE\",\"NL\",\"LU\"]}}}])))"
   ]
  },
  {
   "cell_type": "code",
   "execution_count": 76,
   "metadata": {
    "collapsed": true
   },
   "outputs": [
    {
     "data": {
      "text/plain": [
       "[9519,\n",
       " 1220,\n",
       " 7084,\n",
       " 9515,\n",
       " 9664,\n",
       " 1235,\n",
       " 9647,\n",
       " 9700,\n",
       " 7103,\n",
       " 9547,\n",
       " 9439,\n",
       " 9689,\n",
       " 1270,\n",
       " 9510,\n",
       " 9588,\n",
       " 7160,\n",
       " 9443,\n",
       " 9517,\n",
       " 9662,\n",
       " 9541,\n",
       " 5253,\n",
       " 9531,\n",
       " 9323,\n",
       " 2544,\n",
       " 9469,\n",
       " 9431,\n",
       " 9695,\n",
       " 7027,\n",
       " 9574,\n",
       " 7088,\n",
       " 9608,\n",
       " 9528,\n",
       " 7093,\n",
       " 9469,\n",
       " 9696,\n",
       " 9486,\n",
       " 9005,\n",
       " 2501,\n",
       " 9439,\n",
       " 9583,\n",
       " 9673,\n",
       " 9561,\n",
       " 9441,\n",
       " 9652,\n",
       " 7040,\n",
       " 2546,\n",
       " 1235,\n",
       " 9536,\n",
       " 9484,\n",
       " 9517,\n",
       " 9469,\n",
       " 9469,\n",
       " 9517,\n",
       " 9555,\n",
       " 7012,\n",
       " 1230,\n",
       " 2567,\n",
       " 9579,\n",
       " 7157,\n",
       " 9441,\n",
       " 9439,\n",
       " 9560,\n",
       " 9439,\n",
       " 9677,\n",
       " 9595,\n",
       " 9639,\n",
       " 9643,\n",
       " 9590,\n",
       " 7087,\n",
       " 1253,\n",
       " 9434,\n",
       " 9434,\n",
       " 2551,\n",
       " 9439,\n",
       " 9619,\n",
       " 9619,\n",
       " 9434,\n",
       " 7145,\n",
       " 9434,\n",
       " 9521]"
      ]
     },
     "execution_count": 76,
     "metadata": {},
     "output_type": "execute_result"
    }
   ],
   "source": [
    "list(ExcludedOrgs.OrgID)"
   ]
  },
  {
   "cell_type": "code",
   "execution_count": null,
   "metadata": {},
   "outputs": [],
   "source": []
  },
  {
   "cell_type": "code",
   "execution_count": 99,
   "metadata": {
    "scrolled": true
   },
   "outputs": [],
   "source": [
    "not_being_excluded =  pd.DataFrame(list(market_intelligence['site_traffic'].aggregate([\n",
    "{\"$match\":{\"orgId\":{\"$in\":not_excluded}}},\n",
    "{\"$group\" : {\n",
    "     \"_id\":\"$orgId\",\n",
    "     \"cntry\": { \"$addToSet\": \"$addresses.countryCode\" }, \n",
    "     \"sites\": { \"$addToSet\": \"$siteId\" }}},\n",
    "{\"$project\": {\n",
    "                \"org_id\": \"$_id\", \n",
    "                \"cntry\":\"$cntry\",\n",
    "                \"sites\":\"$sites\",\n",
    "                \"_id\": 0}}         \n",
    "])))"
   ]
  },
  {
   "cell_type": "code",
   "execution_count": 100,
   "metadata": {},
   "outputs": [
    {
     "data": {
      "text/plain": [
       "118"
      ]
     },
     "execution_count": 100,
     "metadata": {},
     "output_type": "execute_result"
    }
   ],
   "source": [
    "len(not_being_excluded)"
   ]
  },
  {
   "cell_type": "code",
   "execution_count": 102,
   "metadata": {},
   "outputs": [
    {
     "data": {
      "text/html": [
       "<div>\n",
       "<style scoped>\n",
       "    .dataframe tbody tr th:only-of-type {\n",
       "        vertical-align: middle;\n",
       "    }\n",
       "\n",
       "    .dataframe tbody tr th {\n",
       "        vertical-align: top;\n",
       "    }\n",
       "\n",
       "    .dataframe thead th {\n",
       "        text-align: right;\n",
       "    }\n",
       "</style>\n",
       "<table border=\"1\" class=\"dataframe\">\n",
       "  <thead>\n",
       "    <tr style=\"text-align: right;\">\n",
       "      <th></th>\n",
       "      <th>cntry</th>\n",
       "      <th>org_id</th>\n",
       "      <th>sites</th>\n",
       "    </tr>\n",
       "  </thead>\n",
       "  <tbody>\n",
       "    <tr>\n",
       "      <th>0</th>\n",
       "      <td>[[FR]]</td>\n",
       "      <td>3121</td>\n",
       "      <td>[80158954]</td>\n",
       "    </tr>\n",
       "    <tr>\n",
       "      <th>1</th>\n",
       "      <td>[[FR]]</td>\n",
       "      <td>3096</td>\n",
       "      <td>[80159346]</td>\n",
       "    </tr>\n",
       "    <tr>\n",
       "      <th>2</th>\n",
       "      <td>[[FR]]</td>\n",
       "      <td>2605</td>\n",
       "      <td>[80157740, 80157483, 80157479, 80157895, 80157...</td>\n",
       "    </tr>\n",
       "    <tr>\n",
       "      <th>3</th>\n",
       "      <td>[[FR]]</td>\n",
       "      <td>6898</td>\n",
       "      <td>[80149960, 80149958, 80153123, 80149959, 80144...</td>\n",
       "    </tr>\n",
       "    <tr>\n",
       "      <th>4</th>\n",
       "      <td>[[FR]]</td>\n",
       "      <td>6863</td>\n",
       "      <td>[80140105]</td>\n",
       "    </tr>\n",
       "  </tbody>\n",
       "</table>\n",
       "</div>"
      ],
      "text/plain": [
       "    cntry  org_id                                              sites\n",
       "0  [[FR]]    3121                                         [80158954]\n",
       "1  [[FR]]    3096                                         [80159346]\n",
       "2  [[FR]]    2605  [80157740, 80157483, 80157479, 80157895, 80157...\n",
       "3  [[FR]]    6898  [80149960, 80149958, 80153123, 80149959, 80144...\n",
       "4  [[FR]]    6863                                         [80140105]"
      ]
     },
     "execution_count": 102,
     "metadata": {},
     "output_type": "execute_result"
    }
   ],
   "source": [
    "not_being_excluded.head()"
   ]
  },
  {
   "cell_type": "code",
   "execution_count": 101,
   "metadata": {
    "scrolled": true
   },
   "outputs": [],
   "source": [
    "not_being_excluded.to_excel('not_being_excluded.xlsx',index=False)"
   ]
  },
  {
   "cell_type": "code",
   "execution_count": null,
   "metadata": {},
   "outputs": [],
   "source": []
  },
  {
   "cell_type": "code",
   "execution_count": 79,
   "metadata": {},
   "outputs": [
    {
     "data": {
      "text/html": [
       "<div>\n",
       "<style scoped>\n",
       "    .dataframe tbody tr th:only-of-type {\n",
       "        vertical-align: middle;\n",
       "    }\n",
       "\n",
       "    .dataframe tbody tr th {\n",
       "        vertical-align: top;\n",
       "    }\n",
       "\n",
       "    .dataframe thead th {\n",
       "        text-align: right;\n",
       "    }\n",
       "</style>\n",
       "<table border=\"1\" class=\"dataframe\">\n",
       "  <thead>\n",
       "    <tr style=\"text-align: right;\">\n",
       "      <th></th>\n",
       "      <th>cntry</th>\n",
       "      <th>org_id</th>\n",
       "      <th>siteId</th>\n",
       "      <th>site_type</th>\n",
       "    </tr>\n",
       "  </thead>\n",
       "  <tbody>\n",
       "    <tr>\n",
       "      <th>0</th>\n",
       "      <td>FR</td>\n",
       "      <td>9564</td>\n",
       "      <td>80093875</td>\n",
       "      <td>Retail</td>\n",
       "    </tr>\n",
       "    <tr>\n",
       "      <th>1</th>\n",
       "      <td>FR</td>\n",
       "      <td>6877</td>\n",
       "      <td>80140784</td>\n",
       "      <td>Organization</td>\n",
       "    </tr>\n",
       "    <tr>\n",
       "      <th>2</th>\n",
       "      <td>FR</td>\n",
       "      <td>6877</td>\n",
       "      <td>80098577</td>\n",
       "      <td>Mall</td>\n",
       "    </tr>\n",
       "    <tr>\n",
       "      <th>3</th>\n",
       "      <td>FR</td>\n",
       "      <td>5054</td>\n",
       "      <td>84740</td>\n",
       "      <td>Retail</td>\n",
       "    </tr>\n",
       "    <tr>\n",
       "      <th>4</th>\n",
       "      <td>FR</td>\n",
       "      <td>5054</td>\n",
       "      <td>84750</td>\n",
       "      <td>Retail</td>\n",
       "    </tr>\n",
       "  </tbody>\n",
       "</table>\n",
       "</div>"
      ],
      "text/plain": [
       "  cntry  org_id    siteId     site_type\n",
       "0    FR    9564  80093875        Retail\n",
       "1    FR    6877  80140784  Organization\n",
       "2    FR    6877  80098577          Mall\n",
       "3    FR    5054     84740        Retail\n",
       "4    FR    5054     84750        Retail"
      ]
     },
     "execution_count": 79,
     "metadata": {},
     "output_type": "execute_result"
    }
   ],
   "source": [
    "sites =  pd.DataFrame(list(siteref['sitedata'].aggregate([\n",
    "{\"$match\":{\"addrs.ctrycd\":{\"$in\":[\"FR\",\"BE\",\"NL\",\"LU\"]}}},\n",
    "{\"$project\":{\"_id\":0,\"siteId\":\"$siteId\",\"org_id\":\"$org.id\",\"cntry\":\"$addrs.ctrycd\",\"site_type\":\"$remedy.type\"}}])))\n",
    "sites.cntry = sites.cntry.apply(lambda x :x[0])\n",
    "sites.head()"
   ]
  },
  {
   "cell_type": "code",
   "execution_count": 98,
   "metadata": {},
   "outputs": [
    {
     "data": {
      "text/plain": [
       "119"
      ]
     },
     "execution_count": 98,
     "metadata": {},
     "output_type": "execute_result"
    }
   ],
   "source": [
    "#not_excluded = list(set(sites.org_id) - set(ExcludedOrgs.OrgID))\n",
    "not_excluded = list(set(orgs.org_id).intersection(set(sites.org_id)) - set(ExcludedOrgs.OrgID))\n",
    "len(not_excluded)"
   ]
  },
  {
   "cell_type": "code",
   "execution_count": 97,
   "metadata": {},
   "outputs": [
    {
     "data": {
      "text/plain": [
       "119"
      ]
     },
     "execution_count": 97,
     "metadata": {},
     "output_type": "execute_result"
    }
   ],
   "source": [
    "len(set(orgs.org_id).intersection(set(sites.org_id)) - set(ExcludedOrgs.OrgID))"
   ]
  },
  {
   "cell_type": "code",
   "execution_count": 85,
   "metadata": {
    "collapsed": true
   },
   "outputs": [
    {
     "data": {
      "text/plain": [
       "[9218,\n",
       " 9233,\n",
       " 3096,\n",
       " 9241,\n",
       " 1053,\n",
       " 1061,\n",
       " 1062,\n",
       " 3110,\n",
       " 7208,\n",
       " 9260,\n",
       " 9261,\n",
       " 3121,\n",
       " 3122,\n",
       " 5173,\n",
       " 1096,\n",
       " 9290,\n",
       " 5214,\n",
       " 6292,\n",
       " 5279,\n",
       " 5283,\n",
       " 6313,\n",
       " 1208,\n",
       " 9410,\n",
       " 6339,\n",
       " 9412,\n",
       " 9414,\n",
       " 9419,\n",
       " 6350,\n",
       " 1231,\n",
       " 6352,\n",
       " 9424,\n",
       " 9426,\n",
       " 6355,\n",
       " 9423,\n",
       " 1237,\n",
       " 9428,\n",
       " 1242,\n",
       " 6363,\n",
       " 9432,\n",
       " 9438,\n",
       " 9433,\n",
       " 9442,\n",
       " 1252,\n",
       " 5351,\n",
       " 9447,\n",
       " 9449,\n",
       " 9450,\n",
       " 9451,\n",
       " 9463,\n",
       " 9466,\n",
       " 9468,\n",
       " 9472,\n",
       " 9473,\n",
       " 9476,\n",
       " 9481,\n",
       " 9482,\n",
       " 5389,\n",
       " 9487,\n",
       " 9490,\n",
       " 9494,\n",
       " 9496,\n",
       " 9502,\n",
       " 9507,\n",
       " 9422,\n",
       " 9526,\n",
       " 6463,\n",
       " 9538,\n",
       " 5444,\n",
       " 9540,\n",
       " 9544,\n",
       " 1354,\n",
       " 1358,\n",
       " 9558,\n",
       " 5465,\n",
       " 9563,\n",
       " 9564,\n",
       " 9566,\n",
       " 5478,\n",
       " 6519,\n",
       " 1399,\n",
       " 9592,\n",
       " 1404,\n",
       " 1410,\n",
       " 2445,\n",
       " 2446,\n",
       " 9616,\n",
       " 9617,\n",
       " 2467,\n",
       " 9636,\n",
       " 1448,\n",
       " 9642,\n",
       " 9651,\n",
       " 1460,\n",
       " 5558,\n",
       " 1473,\n",
       " 2506,\n",
       " 9675,\n",
       " 9676,\n",
       " 9679,\n",
       " 2518,\n",
       " 9687,\n",
       " 9688,\n",
       " 9692,\n",
       " 9698,\n",
       " 1507,\n",
       " 1508,\n",
       " 2539,\n",
       " 8690,\n",
       " 6656,\n",
       " 5633,\n",
       " 8707,\n",
       " 9737,\n",
       " 5643,\n",
       " 2571,\n",
       " 6688,\n",
       " 9763,\n",
       " 2600,\n",
       " 5676,\n",
       " 6700,\n",
       " 2605,\n",
       " 9776,\n",
       " 9777,\n",
       " 5687,\n",
       " 9789,\n",
       " 9790,\n",
       " 2623,\n",
       " 8768,\n",
       " 8771,\n",
       " 5707,\n",
       " 6732,\n",
       " 6731,\n",
       " 6743,\n",
       " 9839,\n",
       " 9846,\n",
       " 9850,\n",
       " 5762,\n",
       " 8836,\n",
       " 5771,\n",
       " 9872,\n",
       " 6801,\n",
       " 6804,\n",
       " 6805,\n",
       " 8855,\n",
       " 5789,\n",
       " 9889,\n",
       " 6823,\n",
       " 5811,\n",
       " 6849,\n",
       " 9928,\n",
       " 9929,\n",
       " 6857,\n",
       " 6860,\n",
       " 6863,\n",
       " 9936,\n",
       " 9939,\n",
       " 8916,\n",
       " 6868,\n",
       " 9943,\n",
       " 6877,\n",
       " 6879,\n",
       " 5858,\n",
       " 8936,\n",
       " 9964,\n",
       " 8941,\n",
       " 6897,\n",
       " 6898,\n",
       " 1777,\n",
       " 5877,\n",
       " 9975,\n",
       " 1790,\n",
       " 5887,\n",
       " 5890,\n",
       " 5895,\n",
       " 5899,\n",
       " 8978,\n",
       " 5907,\n",
       " 8979,\n",
       " 5912,\n",
       " 5923,\n",
       " 1834,\n",
       " 5951,\n",
       " 5968,\n",
       " 9046,\n",
       " 9055,\n",
       " 7010,\n",
       " 9063,\n",
       " 9068,\n",
       " 7023,\n",
       " 7024,\n",
       " 7029,\n",
       " 7042,\n",
       " 7044,\n",
       " 9093,\n",
       " 7046,\n",
       " 7045,\n",
       " 7047,\n",
       " 5007,\n",
       " 7056,\n",
       " 7060,\n",
       " 7067,\n",
       " 7073,\n",
       " 9127,\n",
       " 7082,\n",
       " 9134,\n",
       " 7086,\n",
       " 7092,\n",
       " 7097,\n",
       " 7098,\n",
       " 7099,\n",
       " 5054,\n",
       " 7110,\n",
       " 7113,\n",
       " 7116,\n",
       " 7123,\n",
       " 7126,\n",
       " 5078,\n",
       " 7130,\n",
       " 7131,\n",
       " 7132,\n",
       " 2014,\n",
       " 6113,\n",
       " 7140,\n",
       " 6118,\n",
       " 6119,\n",
       " 1000,\n",
       " 7146,\n",
       " 2030,\n",
       " 7151,\n",
       " 1013,\n",
       " 7166]"
      ]
     },
     "execution_count": 85,
     "metadata": {},
     "output_type": "execute_result"
    }
   ],
   "source": [
    "not_excluded"
   ]
  },
  {
   "cell_type": "code",
   "execution_count": null,
   "metadata": {},
   "outputs": [],
   "source": []
  },
  {
   "cell_type": "code",
   "execution_count": 8,
   "metadata": {},
   "outputs": [],
   "source": [
    "identity = connect_mongo('tgl-mongodb21.rctanalytics.com','27017','identity','st_market_int','9am4Lewk9s0a')"
   ]
  },
  {
   "cell_type": "code",
   "execution_count": 12,
   "metadata": {
    "collapsed": true
   },
   "outputs": [
    {
     "data": {
      "text/html": [
       "<div>\n",
       "<style scoped>\n",
       "    .dataframe tbody tr th:only-of-type {\n",
       "        vertical-align: middle;\n",
       "    }\n",
       "\n",
       "    .dataframe tbody tr th {\n",
       "        vertical-align: top;\n",
       "    }\n",
       "\n",
       "    .dataframe thead th {\n",
       "        text-align: right;\n",
       "    }\n",
       "</style>\n",
       "<table border=\"1\" class=\"dataframe\">\n",
       "  <thead>\n",
       "    <tr style=\"text-align: right;\">\n",
       "      <th></th>\n",
       "      <th>org_id</th>\n",
       "      <th>org_type</th>\n",
       "    </tr>\n",
       "  </thead>\n",
       "  <tbody>\n",
       "    <tr>\n",
       "      <th>0</th>\n",
       "      <td>8695.0</td>\n",
       "      <td>Retail</td>\n",
       "    </tr>\n",
       "    <tr>\n",
       "      <th>1</th>\n",
       "      <td>5210.0</td>\n",
       "      <td>Retail</td>\n",
       "    </tr>\n",
       "    <tr>\n",
       "      <th>2</th>\n",
       "      <td>5349.0</td>\n",
       "      <td>Retail</td>\n",
       "    </tr>\n",
       "    <tr>\n",
       "      <th>3</th>\n",
       "      <td>5287.0</td>\n",
       "      <td>Retail</td>\n",
       "    </tr>\n",
       "    <tr>\n",
       "      <th>4</th>\n",
       "      <td>8925.0</td>\n",
       "      <td>Retail</td>\n",
       "    </tr>\n",
       "  </tbody>\n",
       "</table>\n",
       "</div>"
      ],
      "text/plain": [
       "   org_id org_type\n",
       "0  8695.0   Retail\n",
       "1  5210.0   Retail\n",
       "2  5349.0   Retail\n",
       "3  5287.0   Retail\n",
       "4  8925.0   Retail"
      ]
     },
     "execution_count": 12,
     "metadata": {},
     "output_type": "execute_result"
    }
   ],
   "source": [
    "orgs =  pd.DataFrame(list(identity['organizations'].aggregate([\n",
    "{\"$match\":{\"portal_settings.organization_type\":\"Retail\"}},\n",
    "{\"$project\":{\"org_id\":\"$organization_id\",\"_id\":0,\"org_type\":\"$portal_settings.organization_type\"}}])))\n",
    "orgs.head()"
   ]
  },
  {
   "cell_type": "code",
   "execution_count": 67,
   "metadata": {
    "collapsed": true
   },
   "outputs": [
    {
     "data": {
      "text/html": [
       "<div>\n",
       "<style scoped>\n",
       "    .dataframe tbody tr th:only-of-type {\n",
       "        vertical-align: middle;\n",
       "    }\n",
       "\n",
       "    .dataframe tbody tr th {\n",
       "        vertical-align: top;\n",
       "    }\n",
       "\n",
       "    .dataframe thead th {\n",
       "        text-align: right;\n",
       "    }\n",
       "</style>\n",
       "<table border=\"1\" class=\"dataframe\">\n",
       "  <thead>\n",
       "    <tr style=\"text-align: right;\">\n",
       "      <th></th>\n",
       "      <th>cntry</th>\n",
       "      <th>org_id</th>\n",
       "      <th>site_type</th>\n",
       "    </tr>\n",
       "  </thead>\n",
       "  <tbody>\n",
       "    <tr>\n",
       "      <th>117</th>\n",
       "      <td>FR</td>\n",
       "      <td>5279</td>\n",
       "      <td>Retail</td>\n",
       "    </tr>\n",
       "    <tr>\n",
       "      <th>118</th>\n",
       "      <td>FR</td>\n",
       "      <td>5279</td>\n",
       "      <td>Retail</td>\n",
       "    </tr>\n",
       "    <tr>\n",
       "      <th>119</th>\n",
       "      <td>FR</td>\n",
       "      <td>5279</td>\n",
       "      <td>Retail</td>\n",
       "    </tr>\n",
       "    <tr>\n",
       "      <th>120</th>\n",
       "      <td>FR</td>\n",
       "      <td>5279</td>\n",
       "      <td>Retail</td>\n",
       "    </tr>\n",
       "    <tr>\n",
       "      <th>121</th>\n",
       "      <td>FR</td>\n",
       "      <td>5279</td>\n",
       "      <td>Retail</td>\n",
       "    </tr>\n",
       "    <tr>\n",
       "      <th>122</th>\n",
       "      <td>BE</td>\n",
       "      <td>5279</td>\n",
       "      <td>Retail</td>\n",
       "    </tr>\n",
       "    <tr>\n",
       "      <th>123</th>\n",
       "      <td>NL</td>\n",
       "      <td>5279</td>\n",
       "      <td>Retail</td>\n",
       "    </tr>\n",
       "    <tr>\n",
       "      <th>124</th>\n",
       "      <td>NL</td>\n",
       "      <td>5279</td>\n",
       "      <td>Retail</td>\n",
       "    </tr>\n",
       "    <tr>\n",
       "      <th>125</th>\n",
       "      <td>NL</td>\n",
       "      <td>5279</td>\n",
       "      <td>Retail</td>\n",
       "    </tr>\n",
       "    <tr>\n",
       "      <th>126</th>\n",
       "      <td>FR</td>\n",
       "      <td>5279</td>\n",
       "      <td>Retail</td>\n",
       "    </tr>\n",
       "    <tr>\n",
       "      <th>127</th>\n",
       "      <td>NL</td>\n",
       "      <td>5279</td>\n",
       "      <td>Retail</td>\n",
       "    </tr>\n",
       "    <tr>\n",
       "      <th>128</th>\n",
       "      <td>FR</td>\n",
       "      <td>5279</td>\n",
       "      <td>Retail</td>\n",
       "    </tr>\n",
       "    <tr>\n",
       "      <th>129</th>\n",
       "      <td>NL</td>\n",
       "      <td>5279</td>\n",
       "      <td>Retail</td>\n",
       "    </tr>\n",
       "    <tr>\n",
       "      <th>130</th>\n",
       "      <td>FR</td>\n",
       "      <td>5279</td>\n",
       "      <td>Retail</td>\n",
       "    </tr>\n",
       "    <tr>\n",
       "      <th>131</th>\n",
       "      <td>FR</td>\n",
       "      <td>5279</td>\n",
       "      <td>Retail</td>\n",
       "    </tr>\n",
       "    <tr>\n",
       "      <th>132</th>\n",
       "      <td>FR</td>\n",
       "      <td>5279</td>\n",
       "      <td>Retail</td>\n",
       "    </tr>\n",
       "    <tr>\n",
       "      <th>133</th>\n",
       "      <td>FR</td>\n",
       "      <td>5279</td>\n",
       "      <td>Retail</td>\n",
       "    </tr>\n",
       "    <tr>\n",
       "      <th>134</th>\n",
       "      <td>NL</td>\n",
       "      <td>5279</td>\n",
       "      <td>Retail</td>\n",
       "    </tr>\n",
       "    <tr>\n",
       "      <th>135</th>\n",
       "      <td>BE</td>\n",
       "      <td>5279</td>\n",
       "      <td>Retail</td>\n",
       "    </tr>\n",
       "    <tr>\n",
       "      <th>136</th>\n",
       "      <td>FR</td>\n",
       "      <td>5279</td>\n",
       "      <td>Retail</td>\n",
       "    </tr>\n",
       "    <tr>\n",
       "      <th>137</th>\n",
       "      <td>NL</td>\n",
       "      <td>5279</td>\n",
       "      <td>Retail</td>\n",
       "    </tr>\n",
       "    <tr>\n",
       "      <th>138</th>\n",
       "      <td>BE</td>\n",
       "      <td>5279</td>\n",
       "      <td>Retail</td>\n",
       "    </tr>\n",
       "    <tr>\n",
       "      <th>139</th>\n",
       "      <td>BE</td>\n",
       "      <td>5279</td>\n",
       "      <td>Retail</td>\n",
       "    </tr>\n",
       "    <tr>\n",
       "      <th>140</th>\n",
       "      <td>BE</td>\n",
       "      <td>5279</td>\n",
       "      <td>Retail</td>\n",
       "    </tr>\n",
       "    <tr>\n",
       "      <th>141</th>\n",
       "      <td>NL</td>\n",
       "      <td>5279</td>\n",
       "      <td>Retail</td>\n",
       "    </tr>\n",
       "    <tr>\n",
       "      <th>142</th>\n",
       "      <td>NL</td>\n",
       "      <td>5279</td>\n",
       "      <td>Retail</td>\n",
       "    </tr>\n",
       "    <tr>\n",
       "      <th>143</th>\n",
       "      <td>FR</td>\n",
       "      <td>5279</td>\n",
       "      <td>Retail</td>\n",
       "    </tr>\n",
       "    <tr>\n",
       "      <th>144</th>\n",
       "      <td>FR</td>\n",
       "      <td>5279</td>\n",
       "      <td>Retail</td>\n",
       "    </tr>\n",
       "    <tr>\n",
       "      <th>145</th>\n",
       "      <td>FR</td>\n",
       "      <td>5279</td>\n",
       "      <td>Retail</td>\n",
       "    </tr>\n",
       "    <tr>\n",
       "      <th>146</th>\n",
       "      <td>LU</td>\n",
       "      <td>5279</td>\n",
       "      <td>Retail</td>\n",
       "    </tr>\n",
       "    <tr>\n",
       "      <th>147</th>\n",
       "      <td>BE</td>\n",
       "      <td>5279</td>\n",
       "      <td>Retail</td>\n",
       "    </tr>\n",
       "  </tbody>\n",
       "</table>\n",
       "</div>"
      ],
      "text/plain": [
       "    cntry  org_id site_type\n",
       "117    FR    5279    Retail\n",
       "118    FR    5279    Retail\n",
       "119    FR    5279    Retail\n",
       "120    FR    5279    Retail\n",
       "121    FR    5279    Retail\n",
       "122    BE    5279    Retail\n",
       "123    NL    5279    Retail\n",
       "124    NL    5279    Retail\n",
       "125    NL    5279    Retail\n",
       "126    FR    5279    Retail\n",
       "127    NL    5279    Retail\n",
       "128    FR    5279    Retail\n",
       "129    NL    5279    Retail\n",
       "130    FR    5279    Retail\n",
       "131    FR    5279    Retail\n",
       "132    FR    5279    Retail\n",
       "133    FR    5279    Retail\n",
       "134    NL    5279    Retail\n",
       "135    BE    5279    Retail\n",
       "136    FR    5279    Retail\n",
       "137    NL    5279    Retail\n",
       "138    BE    5279    Retail\n",
       "139    BE    5279    Retail\n",
       "140    BE    5279    Retail\n",
       "141    NL    5279    Retail\n",
       "142    NL    5279    Retail\n",
       "143    FR    5279    Retail\n",
       "144    FR    5279    Retail\n",
       "145    FR    5279    Retail\n",
       "146    LU    5279    Retail\n",
       "147    BE    5279    Retail"
      ]
     },
     "execution_count": 67,
     "metadata": {},
     "output_type": "execute_result"
    }
   ],
   "source": [
    "sites[sites.org_id ==  5279]"
   ]
  },
  {
   "cell_type": "code",
   "execution_count": 93,
   "metadata": {},
   "outputs": [
    {
     "data": {
      "text/html": [
       "<div>\n",
       "<style scoped>\n",
       "    .dataframe tbody tr th:only-of-type {\n",
       "        vertical-align: middle;\n",
       "    }\n",
       "\n",
       "    .dataframe tbody tr th {\n",
       "        vertical-align: top;\n",
       "    }\n",
       "\n",
       "    .dataframe thead th {\n",
       "        text-align: right;\n",
       "    }\n",
       "</style>\n",
       "<table border=\"1\" class=\"dataframe\">\n",
       "  <thead>\n",
       "    <tr style=\"text-align: right;\">\n",
       "      <th></th>\n",
       "      <th>org_id</th>\n",
       "      <th>org_type</th>\n",
       "    </tr>\n",
       "  </thead>\n",
       "  <tbody>\n",
       "    <tr>\n",
       "      <th>0</th>\n",
       "      <td>8695.0</td>\n",
       "      <td>Retail</td>\n",
       "    </tr>\n",
       "    <tr>\n",
       "      <th>1</th>\n",
       "      <td>5210.0</td>\n",
       "      <td>Retail</td>\n",
       "    </tr>\n",
       "    <tr>\n",
       "      <th>2</th>\n",
       "      <td>5349.0</td>\n",
       "      <td>Retail</td>\n",
       "    </tr>\n",
       "    <tr>\n",
       "      <th>3</th>\n",
       "      <td>5287.0</td>\n",
       "      <td>Retail</td>\n",
       "    </tr>\n",
       "    <tr>\n",
       "      <th>4</th>\n",
       "      <td>8925.0</td>\n",
       "      <td>Retail</td>\n",
       "    </tr>\n",
       "  </tbody>\n",
       "</table>\n",
       "</div>"
      ],
      "text/plain": [
       "   org_id org_type\n",
       "0  8695.0   Retail\n",
       "1  5210.0   Retail\n",
       "2  5349.0   Retail\n",
       "3  5287.0   Retail\n",
       "4  8925.0   Retail"
      ]
     },
     "execution_count": 93,
     "metadata": {},
     "output_type": "execute_result"
    }
   ],
   "source": [
    "orgs.head()"
   ]
  },
  {
   "cell_type": "code",
   "execution_count": 94,
   "metadata": {},
   "outputs": [
    {
     "data": {
      "text/plain": [
       "971"
      ]
     },
     "execution_count": 94,
     "metadata": {},
     "output_type": "execute_result"
    }
   ],
   "source": [
    "len(set(orgs.org_id))"
   ]
  },
  {
   "cell_type": "code",
   "execution_count": 95,
   "metadata": {},
   "outputs": [
    {
     "data": {
      "text/plain": [
       "293"
      ]
     },
     "execution_count": 95,
     "metadata": {},
     "output_type": "execute_result"
    }
   ],
   "source": [
    "len(set(sites.org_id))"
   ]
  },
  {
   "cell_type": "code",
   "execution_count": 96,
   "metadata": {},
   "outputs": [
    {
     "data": {
      "text/plain": [
       "166"
      ]
     },
     "execution_count": 96,
     "metadata": {},
     "output_type": "execute_result"
    }
   ],
   "source": [
    "len(set(orgs.org_id).intersection(set(sites.org_id)))"
   ]
  },
  {
   "cell_type": "code",
   "execution_count": 68,
   "metadata": {},
   "outputs": [
    {
     "data": {
      "text/html": [
       "<div>\n",
       "<style scoped>\n",
       "    .dataframe tbody tr th:only-of-type {\n",
       "        vertical-align: middle;\n",
       "    }\n",
       "\n",
       "    .dataframe tbody tr th {\n",
       "        vertical-align: top;\n",
       "    }\n",
       "\n",
       "    .dataframe thead th {\n",
       "        text-align: right;\n",
       "    }\n",
       "</style>\n",
       "<table border=\"1\" class=\"dataframe\">\n",
       "  <thead>\n",
       "    <tr style=\"text-align: right;\">\n",
       "      <th></th>\n",
       "      <th>org_id</th>\n",
       "      <th>org_type</th>\n",
       "      <th>cntry</th>\n",
       "      <th>site_type</th>\n",
       "    </tr>\n",
       "  </thead>\n",
       "  <tbody>\n",
       "    <tr>\n",
       "      <th>0</th>\n",
       "      <td>8936.0</td>\n",
       "      <td>Retail</td>\n",
       "      <td>FR</td>\n",
       "      <td>Retail</td>\n",
       "    </tr>\n",
       "    <tr>\n",
       "      <th>1</th>\n",
       "      <td>8768.0</td>\n",
       "      <td>Retail</td>\n",
       "      <td>BE</td>\n",
       "      <td>Retail</td>\n",
       "    </tr>\n",
       "    <tr>\n",
       "      <th>2</th>\n",
       "      <td>5687.0</td>\n",
       "      <td>Retail</td>\n",
       "      <td>BE</td>\n",
       "      <td>Retail</td>\n",
       "    </tr>\n",
       "    <tr>\n",
       "      <th>3</th>\n",
       "      <td>6339.0</td>\n",
       "      <td>Retail</td>\n",
       "      <td>FR</td>\n",
       "      <td>Retail</td>\n",
       "    </tr>\n",
       "    <tr>\n",
       "      <th>4</th>\n",
       "      <td>9063.0</td>\n",
       "      <td>Retail</td>\n",
       "      <td>BE</td>\n",
       "      <td>Organization</td>\n",
       "    </tr>\n",
       "  </tbody>\n",
       "</table>\n",
       "</div>"
      ],
      "text/plain": [
       "   org_id org_type cntry     site_type\n",
       "0  8936.0   Retail    FR        Retail\n",
       "1  8768.0   Retail    BE        Retail\n",
       "2  5687.0   Retail    BE        Retail\n",
       "3  6339.0   Retail    FR        Retail\n",
       "4  9063.0   Retail    BE  Organization"
      ]
     },
     "execution_count": 68,
     "metadata": {},
     "output_type": "execute_result"
    }
   ],
   "source": [
    "orgs1 = orgs.merge(sites.drop_duplicates(subset=['org_id']),on = 'org_id')\n",
    "orgs1.head()"
   ]
  },
  {
   "cell_type": "code",
   "execution_count": 41,
   "metadata": {},
   "outputs": [
    {
     "data": {
      "text/html": [
       "<div>\n",
       "<style scoped>\n",
       "    .dataframe tbody tr th:only-of-type {\n",
       "        vertical-align: middle;\n",
       "    }\n",
       "\n",
       "    .dataframe tbody tr th {\n",
       "        vertical-align: top;\n",
       "    }\n",
       "\n",
       "    .dataframe thead tr th {\n",
       "        text-align: left;\n",
       "    }\n",
       "\n",
       "    .dataframe thead tr:last-of-type th {\n",
       "        text-align: right;\n",
       "    }\n",
       "</style>\n",
       "<table border=\"1\" class=\"dataframe\">\n",
       "  <thead>\n",
       "    <tr>\n",
       "      <th></th>\n",
       "      <th>org_id</th>\n",
       "      <th>org_type</th>\n",
       "      <th>site_type</th>\n",
       "    </tr>\n",
       "    <tr>\n",
       "      <th></th>\n",
       "      <th>count</th>\n",
       "      <th>count</th>\n",
       "      <th>count</th>\n",
       "    </tr>\n",
       "    <tr>\n",
       "      <th>cntry</th>\n",
       "      <th></th>\n",
       "      <th></th>\n",
       "      <th></th>\n",
       "    </tr>\n",
       "  </thead>\n",
       "  <tbody>\n",
       "    <tr>\n",
       "      <th>BE</th>\n",
       "      <td>12</td>\n",
       "      <td>12</td>\n",
       "      <td>12</td>\n",
       "    </tr>\n",
       "    <tr>\n",
       "      <th>FR</th>\n",
       "      <td>136</td>\n",
       "      <td>136</td>\n",
       "      <td>136</td>\n",
       "    </tr>\n",
       "    <tr>\n",
       "      <th>NL</th>\n",
       "      <td>18</td>\n",
       "      <td>18</td>\n",
       "      <td>18</td>\n",
       "    </tr>\n",
       "  </tbody>\n",
       "</table>\n",
       "</div>"
      ],
      "text/plain": [
       "      org_id org_type site_type\n",
       "       count    count     count\n",
       "cntry                          \n",
       "BE        12       12        12\n",
       "FR       136      136       136\n",
       "NL        18       18        18"
      ]
     },
     "execution_count": 41,
     "metadata": {},
     "output_type": "execute_result"
    }
   ],
   "source": [
    "orgs1.groupby(['cntry']).agg(['count'])"
   ]
  },
  {
   "cell_type": "code",
   "execution_count": 103,
   "metadata": {},
   "outputs": [
    {
     "data": {
      "text/plain": [
       "166"
      ]
     },
     "execution_count": 103,
     "metadata": {},
     "output_type": "execute_result"
    }
   ],
   "source": [
    "len(orgs1)"
   ]
  },
  {
   "cell_type": "code",
   "execution_count": null,
   "metadata": {},
   "outputs": [],
   "source": []
  },
  {
   "cell_type": "code",
   "execution_count": 3,
   "metadata": {},
   "outputs": [],
   "source": [
    "Payless_traffic =  pd.DataFrame(list(market_intelligence['site_traffic'].aggregate([\n",
    "{\"$match\":{\"orgId\":2263}},\n",
    "{\"$project\":{\"siteId\":1,\"orgId\":1,\"firstTrafficDate\":1,\"traffic\":1}}])))"
   ]
  },
  {
   "cell_type": "code",
   "execution_count": 5,
   "metadata": {},
   "outputs": [
    {
     "data": {
      "text/plain": [
       "4075"
      ]
     },
     "execution_count": 5,
     "metadata": {},
     "output_type": "execute_result"
    }
   ],
   "source": [
    "len(Payless_traffic)"
   ]
  },
  {
   "cell_type": "code",
   "execution_count": 15,
   "metadata": {},
   "outputs": [],
   "source": [
    "Payless_traffic['trafficCount'] = Payless_traffic.traffic.apply(len)\n",
    "Payless_traffic['lastTrafficDate'] = Payless_traffic.apply(lambda x : x['firstTrafficDate'] + datetime.timedelta(days= x['trafficCount']),axis=1)\n"
   ]
  },
  {
   "cell_type": "code",
   "execution_count": 16,
   "metadata": {
    "collapsed": true
   },
   "outputs": [
    {
     "data": {
      "text/html": [
       "<div>\n",
       "<style scoped>\n",
       "    .dataframe tbody tr th:only-of-type {\n",
       "        vertical-align: middle;\n",
       "    }\n",
       "\n",
       "    .dataframe tbody tr th {\n",
       "        vertical-align: top;\n",
       "    }\n",
       "\n",
       "    .dataframe thead th {\n",
       "        text-align: right;\n",
       "    }\n",
       "</style>\n",
       "<table border=\"1\" class=\"dataframe\">\n",
       "  <thead>\n",
       "    <tr style=\"text-align: right;\">\n",
       "      <th></th>\n",
       "      <th>_id</th>\n",
       "      <th>firstTrafficDate</th>\n",
       "      <th>orgId</th>\n",
       "      <th>siteId</th>\n",
       "      <th>traffic</th>\n",
       "      <th>lastTrafficDate</th>\n",
       "      <th>trafficCount</th>\n",
       "    </tr>\n",
       "  </thead>\n",
       "  <tbody>\n",
       "    <tr>\n",
       "      <th>0</th>\n",
       "      <td>b04e5c09-e780-0885-c4b0-e3fb3185bc8e</td>\n",
       "      <td>2014-02-14</td>\n",
       "      <td>2263</td>\n",
       "      <td>80034584</td>\n",
       "      <td>[{'trafficCount': 79, 'requiredComp': 12, 'zer...</td>\n",
       "      <td>2017-04-07</td>\n",
       "      <td>1148</td>\n",
       "    </tr>\n",
       "    <tr>\n",
       "      <th>1</th>\n",
       "      <td>c74599b3-999f-9871-1e5c-3a1dd9e99ebf</td>\n",
       "      <td>2014-01-01</td>\n",
       "      <td>2263</td>\n",
       "      <td>10509</td>\n",
       "      <td>[{'trafficCount': 62, 'requiredComp': 12, 'zer...</td>\n",
       "      <td>2019-03-30</td>\n",
       "      <td>1914</td>\n",
       "    </tr>\n",
       "    <tr>\n",
       "      <th>2</th>\n",
       "      <td>3e4f095d-7640-61d9-18e6-17170f18318a</td>\n",
       "      <td>2014-01-01</td>\n",
       "      <td>2263</td>\n",
       "      <td>10329</td>\n",
       "      <td>[{'trafficCount': 141, 'requiredComp': 12, 'ze...</td>\n",
       "      <td>2019-03-30</td>\n",
       "      <td>1914</td>\n",
       "    </tr>\n",
       "    <tr>\n",
       "      <th>3</th>\n",
       "      <td>ac487fc5-43f3-c12b-4dc3-e8001e3926b8</td>\n",
       "      <td>2014-01-01</td>\n",
       "      <td>2263</td>\n",
       "      <td>66211</td>\n",
       "      <td>[{'trafficCount': 52, 'requiredComp': 12, 'zer...</td>\n",
       "      <td>2017-06-30</td>\n",
       "      <td>1276</td>\n",
       "    </tr>\n",
       "    <tr>\n",
       "      <th>4</th>\n",
       "      <td>5c44584f-3ab2-a5c1-d7ed-d0eae44223bc</td>\n",
       "      <td>2014-01-01</td>\n",
       "      <td>2263</td>\n",
       "      <td>65176</td>\n",
       "      <td>[{'trafficCount': 96, 'requiredComp': 12, 'zer...</td>\n",
       "      <td>2016-05-31</td>\n",
       "      <td>881</td>\n",
       "    </tr>\n",
       "  </tbody>\n",
       "</table>\n",
       "</div>"
      ],
      "text/plain": [
       "                                    _id firstTrafficDate  orgId    siteId  \\\n",
       "0  b04e5c09-e780-0885-c4b0-e3fb3185bc8e       2014-02-14   2263  80034584   \n",
       "1  c74599b3-999f-9871-1e5c-3a1dd9e99ebf       2014-01-01   2263     10509   \n",
       "2  3e4f095d-7640-61d9-18e6-17170f18318a       2014-01-01   2263     10329   \n",
       "3  ac487fc5-43f3-c12b-4dc3-e8001e3926b8       2014-01-01   2263     66211   \n",
       "4  5c44584f-3ab2-a5c1-d7ed-d0eae44223bc       2014-01-01   2263     65176   \n",
       "\n",
       "                                             traffic lastTrafficDate  \\\n",
       "0  [{'trafficCount': 79, 'requiredComp': 12, 'zer...      2017-04-07   \n",
       "1  [{'trafficCount': 62, 'requiredComp': 12, 'zer...      2019-03-30   \n",
       "2  [{'trafficCount': 141, 'requiredComp': 12, 'ze...      2019-03-30   \n",
       "3  [{'trafficCount': 52, 'requiredComp': 12, 'zer...      2017-06-30   \n",
       "4  [{'trafficCount': 96, 'requiredComp': 12, 'zer...      2016-05-31   \n",
       "\n",
       "   trafficCount  \n",
       "0          1148  \n",
       "1          1914  \n",
       "2          1914  \n",
       "3          1276  \n",
       "4           881  "
      ]
     },
     "execution_count": 16,
     "metadata": {},
     "output_type": "execute_result"
    }
   ],
   "source": [
    "Payless_traffic.head()"
   ]
  },
  {
   "cell_type": "code",
   "execution_count": 19,
   "metadata": {
    "scrolled": true
   },
   "outputs": [],
   "source": [
    "sample = Payless_traffic[Payless_traffic.lastTrafficDate >= datetime.datetime(2019,4,7)].head()"
   ]
  },
  {
   "cell_type": "code",
   "execution_count": 29,
   "metadata": {},
   "outputs": [
    {
     "data": {
      "text/html": [
       "<div>\n",
       "<style scoped>\n",
       "    .dataframe tbody tr th:only-of-type {\n",
       "        vertical-align: middle;\n",
       "    }\n",
       "\n",
       "    .dataframe tbody tr th {\n",
       "        vertical-align: top;\n",
       "    }\n",
       "\n",
       "    .dataframe thead th {\n",
       "        text-align: right;\n",
       "    }\n",
       "</style>\n",
       "<table border=\"1\" class=\"dataframe\">\n",
       "  <thead>\n",
       "    <tr style=\"text-align: right;\">\n",
       "      <th></th>\n",
       "      <th>_id</th>\n",
       "      <th>firstTrafficDate</th>\n",
       "      <th>orgId</th>\n",
       "      <th>siteId</th>\n",
       "      <th>traffic</th>\n",
       "      <th>lastTrafficDate</th>\n",
       "      <th>trafficCount</th>\n",
       "    </tr>\n",
       "  </thead>\n",
       "  <tbody>\n",
       "    <tr>\n",
       "      <th>10</th>\n",
       "      <td>6540bfd6-32b9-d366-9b1f-2c669b11a8a2</td>\n",
       "      <td>2016-08-10</td>\n",
       "      <td>2263</td>\n",
       "      <td>80066003</td>\n",
       "      <td>[{'trafficCount': 377, 'requiredComp': 8, 'zer...</td>\n",
       "      <td>2019-07-10</td>\n",
       "      <td>1064</td>\n",
       "    </tr>\n",
       "    <tr>\n",
       "      <th>31</th>\n",
       "      <td>af4f3ef2-19cb-c70a-25ef-3213d2815abc</td>\n",
       "      <td>2014-01-01</td>\n",
       "      <td>2263</td>\n",
       "      <td>51335</td>\n",
       "      <td>[{'trafficCount': 0, 'requiredComp': 12, 'zero...</td>\n",
       "      <td>2019-07-09</td>\n",
       "      <td>2015</td>\n",
       "    </tr>\n",
       "    <tr>\n",
       "      <th>35</th>\n",
       "      <td>e14c53f3-5eb3-37ae-0688-22d892f2cb84</td>\n",
       "      <td>2014-04-13</td>\n",
       "      <td>2263</td>\n",
       "      <td>80026836</td>\n",
       "      <td>[{'trafficCount': 582, 'requiredComp': 12, 'ze...</td>\n",
       "      <td>2019-07-09</td>\n",
       "      <td>1913</td>\n",
       "    </tr>\n",
       "    <tr>\n",
       "      <th>115</th>\n",
       "      <td>f040cb92-c7e9-ed0b-5b9c-1f06775b0bb7</td>\n",
       "      <td>2014-01-07</td>\n",
       "      <td>2263</td>\n",
       "      <td>80030903</td>\n",
       "      <td>[{'trafficCount': 351, 'requiredComp': 12, 'ze...</td>\n",
       "      <td>2019-07-10</td>\n",
       "      <td>2010</td>\n",
       "    </tr>\n",
       "    <tr>\n",
       "      <th>132</th>\n",
       "      <td>5b46c130-00cf-b6bf-ecb4-d9f096dfa59b</td>\n",
       "      <td>2014-01-01</td>\n",
       "      <td>2263</td>\n",
       "      <td>80004679</td>\n",
       "      <td>[{'trafficCount': 0, 'requiredComp': 12, 'zero...</td>\n",
       "      <td>2019-07-09</td>\n",
       "      <td>2015</td>\n",
       "    </tr>\n",
       "  </tbody>\n",
       "</table>\n",
       "</div>"
      ],
      "text/plain": [
       "                                      _id firstTrafficDate  orgId    siteId  \\\n",
       "10   6540bfd6-32b9-d366-9b1f-2c669b11a8a2       2016-08-10   2263  80066003   \n",
       "31   af4f3ef2-19cb-c70a-25ef-3213d2815abc       2014-01-01   2263     51335   \n",
       "35   e14c53f3-5eb3-37ae-0688-22d892f2cb84       2014-04-13   2263  80026836   \n",
       "115  f040cb92-c7e9-ed0b-5b9c-1f06775b0bb7       2014-01-07   2263  80030903   \n",
       "132  5b46c130-00cf-b6bf-ecb4-d9f096dfa59b       2014-01-01   2263  80004679   \n",
       "\n",
       "                                               traffic lastTrafficDate  \\\n",
       "10   [{'trafficCount': 377, 'requiredComp': 8, 'zer...      2019-07-10   \n",
       "31   [{'trafficCount': 0, 'requiredComp': 12, 'zero...      2019-07-09   \n",
       "35   [{'trafficCount': 582, 'requiredComp': 12, 'ze...      2019-07-09   \n",
       "115  [{'trafficCount': 351, 'requiredComp': 12, 'ze...      2019-07-10   \n",
       "132  [{'trafficCount': 0, 'requiredComp': 12, 'zero...      2019-07-09   \n",
       "\n",
       "     trafficCount  \n",
       "10           1064  \n",
       "31           2015  \n",
       "35           1913  \n",
       "115          2010  \n",
       "132          2015  "
      ]
     },
     "execution_count": 29,
     "metadata": {},
     "output_type": "execute_result"
    }
   ],
   "source": [
    "sample"
   ]
  },
  {
   "cell_type": "code",
   "execution_count": 49,
   "metadata": {},
   "outputs": [],
   "source": [
    "Payless_traffic =  pd.DataFrame(list(market_intelligence['site_traffic'].aggregate([\n",
    "{\"$match\":{\"orgId\":2263}},\n",
    "{\"$project\":{\"siteId\":1,\"orgId\":1,\"firstTrafficDate\":1,\"traffic\":1}}])))\n",
    "\n",
    "# if any site satisfies comp rules after being excluded\n",
    "Payless_traffic['being_included'] = Payless_traffic.apply(lambda x : \n",
    "             [i for i in x['traffic'][(datetime.datetime(2019,4,7) - x['firstTrafficDate']).days:] if i['requiredComp'] > 11],\n",
    "             axis=1)"
   ]
  },
  {
   "cell_type": "code",
   "execution_count": 51,
   "metadata": {
    "collapsed": true
   },
   "outputs": [
    {
     "data": {
      "text/html": [
       "<div>\n",
       "<style scoped>\n",
       "    .dataframe tbody tr th:only-of-type {\n",
       "        vertical-align: middle;\n",
       "    }\n",
       "\n",
       "    .dataframe tbody tr th {\n",
       "        vertical-align: top;\n",
       "    }\n",
       "\n",
       "    .dataframe thead th {\n",
       "        text-align: right;\n",
       "    }\n",
       "</style>\n",
       "<table border=\"1\" class=\"dataframe\">\n",
       "  <thead>\n",
       "    <tr style=\"text-align: right;\">\n",
       "      <th></th>\n",
       "      <th>_id</th>\n",
       "      <th>firstTrafficDate</th>\n",
       "      <th>orgId</th>\n",
       "      <th>siteId</th>\n",
       "      <th>traffic</th>\n",
       "      <th>lastTrafficDate</th>\n",
       "      <th>trafficCount</th>\n",
       "      <th>being_included</th>\n",
       "    </tr>\n",
       "  </thead>\n",
       "  <tbody>\n",
       "    <tr>\n",
       "      <th>0</th>\n",
       "      <td>b04e5c09-e780-0885-c4b0-e3fb3185bc8e</td>\n",
       "      <td>2014-02-14</td>\n",
       "      <td>2263</td>\n",
       "      <td>80034584</td>\n",
       "      <td>[{'trafficCount': 79, 'requiredComp': 12, 'zer...</td>\n",
       "      <td>2017-04-07</td>\n",
       "      <td>1148</td>\n",
       "      <td>[]</td>\n",
       "    </tr>\n",
       "    <tr>\n",
       "      <th>1</th>\n",
       "      <td>c74599b3-999f-9871-1e5c-3a1dd9e99ebf</td>\n",
       "      <td>2014-01-01</td>\n",
       "      <td>2263</td>\n",
       "      <td>10509</td>\n",
       "      <td>[{'trafficCount': 62, 'requiredComp': 12, 'zer...</td>\n",
       "      <td>2019-03-30</td>\n",
       "      <td>1914</td>\n",
       "      <td>[]</td>\n",
       "    </tr>\n",
       "    <tr>\n",
       "      <th>2</th>\n",
       "      <td>3e4f095d-7640-61d9-18e6-17170f18318a</td>\n",
       "      <td>2014-01-01</td>\n",
       "      <td>2263</td>\n",
       "      <td>10329</td>\n",
       "      <td>[{'trafficCount': 141, 'requiredComp': 12, 'ze...</td>\n",
       "      <td>2019-03-30</td>\n",
       "      <td>1914</td>\n",
       "      <td>[]</td>\n",
       "    </tr>\n",
       "    <tr>\n",
       "      <th>3</th>\n",
       "      <td>ac487fc5-43f3-c12b-4dc3-e8001e3926b8</td>\n",
       "      <td>2014-01-01</td>\n",
       "      <td>2263</td>\n",
       "      <td>66211</td>\n",
       "      <td>[{'trafficCount': 52, 'requiredComp': 12, 'zer...</td>\n",
       "      <td>2017-06-30</td>\n",
       "      <td>1276</td>\n",
       "      <td>[]</td>\n",
       "    </tr>\n",
       "    <tr>\n",
       "      <th>4</th>\n",
       "      <td>5c44584f-3ab2-a5c1-d7ed-d0eae44223bc</td>\n",
       "      <td>2014-01-01</td>\n",
       "      <td>2263</td>\n",
       "      <td>65176</td>\n",
       "      <td>[{'trafficCount': 96, 'requiredComp': 12, 'zer...</td>\n",
       "      <td>2016-05-31</td>\n",
       "      <td>881</td>\n",
       "      <td>[]</td>\n",
       "    </tr>\n",
       "  </tbody>\n",
       "</table>\n",
       "</div>"
      ],
      "text/plain": [
       "                                    _id firstTrafficDate  orgId    siteId  \\\n",
       "0  b04e5c09-e780-0885-c4b0-e3fb3185bc8e       2014-02-14   2263  80034584   \n",
       "1  c74599b3-999f-9871-1e5c-3a1dd9e99ebf       2014-01-01   2263     10509   \n",
       "2  3e4f095d-7640-61d9-18e6-17170f18318a       2014-01-01   2263     10329   \n",
       "3  ac487fc5-43f3-c12b-4dc3-e8001e3926b8       2014-01-01   2263     66211   \n",
       "4  5c44584f-3ab2-a5c1-d7ed-d0eae44223bc       2014-01-01   2263     65176   \n",
       "\n",
       "                                             traffic lastTrafficDate  \\\n",
       "0  [{'trafficCount': 79, 'requiredComp': 12, 'zer...      2017-04-07   \n",
       "1  [{'trafficCount': 62, 'requiredComp': 12, 'zer...      2019-03-30   \n",
       "2  [{'trafficCount': 141, 'requiredComp': 12, 'ze...      2019-03-30   \n",
       "3  [{'trafficCount': 52, 'requiredComp': 12, 'zer...      2017-06-30   \n",
       "4  [{'trafficCount': 96, 'requiredComp': 12, 'zer...      2016-05-31   \n",
       "\n",
       "   trafficCount being_included  \n",
       "0          1148             []  \n",
       "1          1914             []  \n",
       "2          1914             []  \n",
       "3          1276             []  \n",
       "4           881             []  "
      ]
     },
     "execution_count": 51,
     "metadata": {},
     "output_type": "execute_result"
    }
   ],
   "source": [
    "Payless_traffic.head()"
   ]
  },
  {
   "cell_type": "code",
   "execution_count": 57,
   "metadata": {},
   "outputs": [
    {
     "data": {
      "text/html": [
       "<div>\n",
       "<style scoped>\n",
       "    .dataframe tbody tr th:only-of-type {\n",
       "        vertical-align: middle;\n",
       "    }\n",
       "\n",
       "    .dataframe tbody tr th {\n",
       "        vertical-align: top;\n",
       "    }\n",
       "\n",
       "    .dataframe thead th {\n",
       "        text-align: right;\n",
       "    }\n",
       "</style>\n",
       "<table border=\"1\" class=\"dataframe\">\n",
       "  <thead>\n",
       "    <tr style=\"text-align: right;\">\n",
       "      <th></th>\n",
       "      <th>_id</th>\n",
       "      <th>firstTrafficDate</th>\n",
       "      <th>orgId</th>\n",
       "      <th>siteId</th>\n",
       "      <th>traffic</th>\n",
       "      <th>lastTrafficDate</th>\n",
       "      <th>trafficCount</th>\n",
       "      <th>being_included</th>\n",
       "    </tr>\n",
       "  </thead>\n",
       "  <tbody>\n",
       "  </tbody>\n",
       "</table>\n",
       "</div>"
      ],
      "text/plain": [
       "Empty DataFrame\n",
       "Columns: [_id, firstTrafficDate, orgId, siteId, traffic, lastTrafficDate, trafficCount, being_included]\n",
       "Index: []"
      ]
     },
     "execution_count": 57,
     "metadata": {},
     "output_type": "execute_result"
    }
   ],
   "source": [
    "Payless_traffic[Payless_traffic.being_included.map(lambda x :len(x)>0)]"
   ]
  },
  {
   "cell_type": "code",
   "execution_count": null,
   "metadata": {},
   "outputs": [],
   "source": []
  },
  {
   "cell_type": "code",
   "execution_count": null,
   "metadata": {},
   "outputs": [],
   "source": []
  },
  {
   "cell_type": "code",
   "execution_count": 58,
   "metadata": {},
   "outputs": [],
   "source": [
    "facebook = connect_mongo('dgl-mongodb21.rctanalytics.com','27017','customer_demographics','st_customer_demographics','Alsm84Sm33so')"
   ]
  },
  {
   "cell_type": "code",
   "execution_count": 61,
   "metadata": {
    "scrolled": true
   },
   "outputs": [],
   "source": [
    "sites =  pd.DataFrame(list(facebook['sites'].find({\"customer_site_id\":{\"$in\":[\"0254\", \"0816\", \"0310\", \"0710\", \"0527\", \"0952\", \"0344\", \"0237\", \"0727\"]}})))"
   ]
  },
  {
   "cell_type": "code",
   "execution_count": 62,
   "metadata": {
    "scrolled": true
   },
   "outputs": [
    {
     "data": {
      "text/html": [
       "<div>\n",
       "<style scoped>\n",
       "    .dataframe tbody tr th:only-of-type {\n",
       "        vertical-align: middle;\n",
       "    }\n",
       "\n",
       "    .dataframe tbody tr th {\n",
       "        vertical-align: top;\n",
       "    }\n",
       "\n",
       "    .dataframe thead th {\n",
       "        text-align: right;\n",
       "    }\n",
       "</style>\n",
       "<table border=\"1\" class=\"dataframe\">\n",
       "  <thead>\n",
       "    <tr style=\"text-align: right;\">\n",
       "      <th></th>\n",
       "      <th>_id</th>\n",
       "      <th>age_gender</th>\n",
       "      <th>customer_site_id</th>\n",
       "      <th>dailyOffset</th>\n",
       "      <th>data_available_since</th>\n",
       "      <th>datesWithoutData</th>\n",
       "      <th>highest_education</th>\n",
       "      <th>historicalDataLoaded</th>\n",
       "      <th>home_city</th>\n",
       "      <th>job_title</th>\n",
       "      <th>most_recent_data</th>\n",
       "      <th>name</th>\n",
       "      <th>organization</th>\n",
       "      <th>page_like</th>\n",
       "      <th>site_id</th>\n",
       "    </tr>\n",
       "  </thead>\n",
       "  <tbody>\n",
       "    <tr>\n",
       "      <th>0</th>\n",
       "      <td>5c1d5a7b6fbc2a05f88c4274</td>\n",
       "      <td>[{'date': {'startDate': '2018-10-08', 'endDate...</td>\n",
       "      <td>0310</td>\n",
       "      <td>39</td>\n",
       "      <td>2018-10-07</td>\n",
       "      <td>[2018-10-07, 2018-10-21, 2018-10-22, 2018-11-0...</td>\n",
       "      <td>[{'date': {'startDate': '2018-10-08', 'endDate...</td>\n",
       "      <td>True</td>\n",
       "      <td>[{'date': {'startDate': '2018-10-08', 'endDate...</td>\n",
       "      <td>[{'date': {'startDate': '2018-10-08', 'endDate...</td>\n",
       "      <td>2019-06-18</td>\n",
       "      <td>0310 - Wichita Ks</td>\n",
       "      <td>{'id': 6175, 'name': 'Sally Beauty Supply LLC'...</td>\n",
       "      <td>[{'date': {'startDate': '2018-10-08', 'endDate...</td>\n",
       "      <td>80140167</td>\n",
       "    </tr>\n",
       "    <tr>\n",
       "      <th>1</th>\n",
       "      <td>5c1d5a846fbc2a05f88c43ca</td>\n",
       "      <td>[{'date': {'startDate': '2019-01-31', 'endDate...</td>\n",
       "      <td>0237</td>\n",
       "      <td>41</td>\n",
       "      <td>2018-10-07</td>\n",
       "      <td>[2018-10-07, 2018-10-08, 2018-10-09, 2018-10-1...</td>\n",
       "      <td>[{'date': {'startDate': '2019-01-31', 'endDate...</td>\n",
       "      <td>True</td>\n",
       "      <td>[{'date': {'startDate': '2019-01-31', 'endDate...</td>\n",
       "      <td>[{'date': {'startDate': '2019-01-31', 'endDate...</td>\n",
       "      <td>2019-06-18</td>\n",
       "      <td>0237 - Mesquite Dfw</td>\n",
       "      <td>{'id': 6175, 'name': 'Sally Beauty Supply LLC'...</td>\n",
       "      <td>[{'date': {'startDate': '2019-01-31', 'endDate...</td>\n",
       "      <td>80128831</td>\n",
       "    </tr>\n",
       "    <tr>\n",
       "      <th>2</th>\n",
       "      <td>5c1d5a866fbc2a05f88c47de</td>\n",
       "      <td>[]</td>\n",
       "      <td>0816</td>\n",
       "      <td>41</td>\n",
       "      <td>2018-10-07</td>\n",
       "      <td>[2018-10-07, 2018-10-08, 2018-10-09, 2018-10-1...</td>\n",
       "      <td>[]</td>\n",
       "      <td>True</td>\n",
       "      <td>[]</td>\n",
       "      <td>[]</td>\n",
       "      <td>2019-06-18</td>\n",
       "      <td>0816 - Columbia Mo</td>\n",
       "      <td>{'id': 6175, 'name': 'Sally Beauty Supply LLC'...</td>\n",
       "      <td>[]</td>\n",
       "      <td>80139413</td>\n",
       "    </tr>\n",
       "    <tr>\n",
       "      <th>3</th>\n",
       "      <td>5c2be9ea6fbc2a05f88c4ac2</td>\n",
       "      <td>[{'date': {'startDate': '2018-10-19', 'endDate...</td>\n",
       "      <td>0727</td>\n",
       "      <td>43</td>\n",
       "      <td>2018-10-18</td>\n",
       "      <td>[2018-10-18, 2018-10-22, 2018-10-23, 2018-10-2...</td>\n",
       "      <td>[{'date': {'startDate': '2018-10-19', 'endDate...</td>\n",
       "      <td>True</td>\n",
       "      <td>[{'date': {'startDate': '2018-10-19', 'endDate...</td>\n",
       "      <td>[{'date': {'startDate': '2018-10-19', 'endDate...</td>\n",
       "      <td>2019-06-18</td>\n",
       "      <td>0727 - One Nineteen</td>\n",
       "      <td>{'id': 5030, 'name': 'Crate and Barrel', 'fb_i...</td>\n",
       "      <td>[{'date': {'startDate': '2018-10-19', 'endDate...</td>\n",
       "      <td>73837</td>\n",
       "    </tr>\n",
       "    <tr>\n",
       "      <th>4</th>\n",
       "      <td>5c2cda586fbc2a05f88c519d</td>\n",
       "      <td>[{'date': {'startDate': '2018-11-15', 'endDate...</td>\n",
       "      <td>0237</td>\n",
       "      <td>53</td>\n",
       "      <td>2018-10-19</td>\n",
       "      <td>[2018-10-19, 2018-10-20, 2018-10-21, 2018-10-2...</td>\n",
       "      <td>[{'date': {'startDate': '2018-11-15', 'endDate...</td>\n",
       "      <td>True</td>\n",
       "      <td>[{'date': {'startDate': '2018-11-15', 'endDate...</td>\n",
       "      <td>[{'date': {'startDate': '2018-11-15', 'endDate...</td>\n",
       "      <td>2019-06-18</td>\n",
       "      <td>Office Depot - Bradenton</td>\n",
       "      <td>{'id': 5109, 'name': 'Office Depot', 'fb_id': ...</td>\n",
       "      <td>[{'date': {'startDate': '2018-11-15', 'endDate...</td>\n",
       "      <td>80008463</td>\n",
       "    </tr>\n",
       "    <tr>\n",
       "      <th>5</th>\n",
       "      <td>5c2cda586fbc2a05f88c51a8</td>\n",
       "      <td>[]</td>\n",
       "      <td>0254</td>\n",
       "      <td>53</td>\n",
       "      <td>2018-10-19</td>\n",
       "      <td>[2018-10-19, 2018-10-20, 2018-10-21, 2018-10-2...</td>\n",
       "      <td>[]</td>\n",
       "      <td>True</td>\n",
       "      <td>[]</td>\n",
       "      <td>[]</td>\n",
       "      <td>2019-06-18</td>\n",
       "      <td>Office Depot - Charlottesville</td>\n",
       "      <td>{'id': 5109, 'name': 'Office Depot', 'fb_id': ...</td>\n",
       "      <td>[]</td>\n",
       "      <td>80008468</td>\n",
       "    </tr>\n",
       "    <tr>\n",
       "      <th>6</th>\n",
       "      <td>5c2cda586fbc2a05f88c522a</td>\n",
       "      <td>[{'date': {'startDate': '2018-10-19', 'endDate...</td>\n",
       "      <td>0527</td>\n",
       "      <td>53</td>\n",
       "      <td>2018-10-19</td>\n",
       "      <td>[2018-11-22, 2018-12-25, 2019-02-15, 2019-02-1...</td>\n",
       "      <td>[{'date': {'startDate': '2018-10-19', 'endDate...</td>\n",
       "      <td>True</td>\n",
       "      <td>[{'date': {'startDate': '2018-10-19', 'endDate...</td>\n",
       "      <td>[{'date': {'startDate': '2018-10-19', 'endDate...</td>\n",
       "      <td>2019-06-18</td>\n",
       "      <td>Office Depot - Laredo</td>\n",
       "      <td>{'id': 5109, 'name': 'Office Depot', 'fb_id': ...</td>\n",
       "      <td>[{'date': {'startDate': '2018-10-19', 'endDate...</td>\n",
       "      <td>80005963</td>\n",
       "    </tr>\n",
       "    <tr>\n",
       "      <th>7</th>\n",
       "      <td>5c2cda586fbc2a05f88c52c8</td>\n",
       "      <td>[{'date': {'startDate': '2018-10-19', 'endDate...</td>\n",
       "      <td>0344</td>\n",
       "      <td>53</td>\n",
       "      <td>2018-10-19</td>\n",
       "      <td>[2018-10-22, 2018-10-24, 2018-10-31, 2018-11-0...</td>\n",
       "      <td>[{'date': {'startDate': '2018-10-19', 'endDate...</td>\n",
       "      <td>True</td>\n",
       "      <td>[{'date': {'startDate': '2018-10-19', 'endDate...</td>\n",
       "      <td>[{'date': {'startDate': '2018-10-19', 'endDate...</td>\n",
       "      <td>2019-06-18</td>\n",
       "      <td>Office Depot - Covington</td>\n",
       "      <td>{'id': 5109, 'name': 'Office Depot', 'fb_id': ...</td>\n",
       "      <td>[{'date': {'startDate': '2018-10-19', 'endDate...</td>\n",
       "      <td>80006174</td>\n",
       "    </tr>\n",
       "    <tr>\n",
       "      <th>8</th>\n",
       "      <td>5c2cda586fbc2a05f88c5390</td>\n",
       "      <td>[{'date': {'startDate': '2018-10-19', 'endDate...</td>\n",
       "      <td>0952</td>\n",
       "      <td>53</td>\n",
       "      <td>2018-10-19</td>\n",
       "      <td>[2018-11-22, 2018-12-25, 2019-02-15, 2019-02-1...</td>\n",
       "      <td>[{'date': {'startDate': '2018-10-19', 'endDate...</td>\n",
       "      <td>True</td>\n",
       "      <td>[{'date': {'startDate': '2018-10-19', 'endDate...</td>\n",
       "      <td>[{'date': {'startDate': '2018-10-19', 'endDate...</td>\n",
       "      <td>2019-06-18</td>\n",
       "      <td>Office Depot - Bakersfield</td>\n",
       "      <td>{'id': 5109, 'name': 'Office Depot', 'fb_id': ...</td>\n",
       "      <td>[{'date': {'startDate': '2018-10-19', 'endDate...</td>\n",
       "      <td>80005357</td>\n",
       "    </tr>\n",
       "  </tbody>\n",
       "</table>\n",
       "</div>"
      ],
      "text/plain": [
       "                        _id  \\\n",
       "0  5c1d5a7b6fbc2a05f88c4274   \n",
       "1  5c1d5a846fbc2a05f88c43ca   \n",
       "2  5c1d5a866fbc2a05f88c47de   \n",
       "3  5c2be9ea6fbc2a05f88c4ac2   \n",
       "4  5c2cda586fbc2a05f88c519d   \n",
       "5  5c2cda586fbc2a05f88c51a8   \n",
       "6  5c2cda586fbc2a05f88c522a   \n",
       "7  5c2cda586fbc2a05f88c52c8   \n",
       "8  5c2cda586fbc2a05f88c5390   \n",
       "\n",
       "                                          age_gender customer_site_id  \\\n",
       "0  [{'date': {'startDate': '2018-10-08', 'endDate...             0310   \n",
       "1  [{'date': {'startDate': '2019-01-31', 'endDate...             0237   \n",
       "2                                                 []             0816   \n",
       "3  [{'date': {'startDate': '2018-10-19', 'endDate...             0727   \n",
       "4  [{'date': {'startDate': '2018-11-15', 'endDate...             0237   \n",
       "5                                                 []             0254   \n",
       "6  [{'date': {'startDate': '2018-10-19', 'endDate...             0527   \n",
       "7  [{'date': {'startDate': '2018-10-19', 'endDate...             0344   \n",
       "8  [{'date': {'startDate': '2018-10-19', 'endDate...             0952   \n",
       "\n",
       "   dailyOffset data_available_since  \\\n",
       "0           39           2018-10-07   \n",
       "1           41           2018-10-07   \n",
       "2           41           2018-10-07   \n",
       "3           43           2018-10-18   \n",
       "4           53           2018-10-19   \n",
       "5           53           2018-10-19   \n",
       "6           53           2018-10-19   \n",
       "7           53           2018-10-19   \n",
       "8           53           2018-10-19   \n",
       "\n",
       "                                    datesWithoutData  \\\n",
       "0  [2018-10-07, 2018-10-21, 2018-10-22, 2018-11-0...   \n",
       "1  [2018-10-07, 2018-10-08, 2018-10-09, 2018-10-1...   \n",
       "2  [2018-10-07, 2018-10-08, 2018-10-09, 2018-10-1...   \n",
       "3  [2018-10-18, 2018-10-22, 2018-10-23, 2018-10-2...   \n",
       "4  [2018-10-19, 2018-10-20, 2018-10-21, 2018-10-2...   \n",
       "5  [2018-10-19, 2018-10-20, 2018-10-21, 2018-10-2...   \n",
       "6  [2018-11-22, 2018-12-25, 2019-02-15, 2019-02-1...   \n",
       "7  [2018-10-22, 2018-10-24, 2018-10-31, 2018-11-0...   \n",
       "8  [2018-11-22, 2018-12-25, 2019-02-15, 2019-02-1...   \n",
       "\n",
       "                                   highest_education  historicalDataLoaded  \\\n",
       "0  [{'date': {'startDate': '2018-10-08', 'endDate...                  True   \n",
       "1  [{'date': {'startDate': '2019-01-31', 'endDate...                  True   \n",
       "2                                                 []                  True   \n",
       "3  [{'date': {'startDate': '2018-10-19', 'endDate...                  True   \n",
       "4  [{'date': {'startDate': '2018-11-15', 'endDate...                  True   \n",
       "5                                                 []                  True   \n",
       "6  [{'date': {'startDate': '2018-10-19', 'endDate...                  True   \n",
       "7  [{'date': {'startDate': '2018-10-19', 'endDate...                  True   \n",
       "8  [{'date': {'startDate': '2018-10-19', 'endDate...                  True   \n",
       "\n",
       "                                           home_city  \\\n",
       "0  [{'date': {'startDate': '2018-10-08', 'endDate...   \n",
       "1  [{'date': {'startDate': '2019-01-31', 'endDate...   \n",
       "2                                                 []   \n",
       "3  [{'date': {'startDate': '2018-10-19', 'endDate...   \n",
       "4  [{'date': {'startDate': '2018-11-15', 'endDate...   \n",
       "5                                                 []   \n",
       "6  [{'date': {'startDate': '2018-10-19', 'endDate...   \n",
       "7  [{'date': {'startDate': '2018-10-19', 'endDate...   \n",
       "8  [{'date': {'startDate': '2018-10-19', 'endDate...   \n",
       "\n",
       "                                           job_title most_recent_data  \\\n",
       "0  [{'date': {'startDate': '2018-10-08', 'endDate...       2019-06-18   \n",
       "1  [{'date': {'startDate': '2019-01-31', 'endDate...       2019-06-18   \n",
       "2                                                 []       2019-06-18   \n",
       "3  [{'date': {'startDate': '2018-10-19', 'endDate...       2019-06-18   \n",
       "4  [{'date': {'startDate': '2018-11-15', 'endDate...       2019-06-18   \n",
       "5                                                 []       2019-06-18   \n",
       "6  [{'date': {'startDate': '2018-10-19', 'endDate...       2019-06-18   \n",
       "7  [{'date': {'startDate': '2018-10-19', 'endDate...       2019-06-18   \n",
       "8  [{'date': {'startDate': '2018-10-19', 'endDate...       2019-06-18   \n",
       "\n",
       "                             name  \\\n",
       "0               0310 - Wichita Ks   \n",
       "1             0237 - Mesquite Dfw   \n",
       "2              0816 - Columbia Mo   \n",
       "3             0727 - One Nineteen   \n",
       "4        Office Depot - Bradenton   \n",
       "5  Office Depot - Charlottesville   \n",
       "6           Office Depot - Laredo   \n",
       "7        Office Depot - Covington   \n",
       "8      Office Depot - Bakersfield   \n",
       "\n",
       "                                        organization  \\\n",
       "0  {'id': 6175, 'name': 'Sally Beauty Supply LLC'...   \n",
       "1  {'id': 6175, 'name': 'Sally Beauty Supply LLC'...   \n",
       "2  {'id': 6175, 'name': 'Sally Beauty Supply LLC'...   \n",
       "3  {'id': 5030, 'name': 'Crate and Barrel', 'fb_i...   \n",
       "4  {'id': 5109, 'name': 'Office Depot', 'fb_id': ...   \n",
       "5  {'id': 5109, 'name': 'Office Depot', 'fb_id': ...   \n",
       "6  {'id': 5109, 'name': 'Office Depot', 'fb_id': ...   \n",
       "7  {'id': 5109, 'name': 'Office Depot', 'fb_id': ...   \n",
       "8  {'id': 5109, 'name': 'Office Depot', 'fb_id': ...   \n",
       "\n",
       "                                           page_like   site_id  \n",
       "0  [{'date': {'startDate': '2018-10-08', 'endDate...  80140167  \n",
       "1  [{'date': {'startDate': '2019-01-31', 'endDate...  80128831  \n",
       "2                                                 []  80139413  \n",
       "3  [{'date': {'startDate': '2018-10-19', 'endDate...     73837  \n",
       "4  [{'date': {'startDate': '2018-11-15', 'endDate...  80008463  \n",
       "5                                                 []  80008468  \n",
       "6  [{'date': {'startDate': '2018-10-19', 'endDate...  80005963  \n",
       "7  [{'date': {'startDate': '2018-10-19', 'endDate...  80006174  \n",
       "8  [{'date': {'startDate': '2018-10-19', 'endDate...  80005357  "
      ]
     },
     "execution_count": 62,
     "metadata": {},
     "output_type": "execute_result"
    }
   ],
   "source": [
    "sites"
   ]
  },
  {
   "cell_type": "code",
   "execution_count": 64,
   "metadata": {},
   "outputs": [
    {
     "data": {
      "text/html": [
       "<div>\n",
       "<style scoped>\n",
       "    .dataframe tbody tr th:only-of-type {\n",
       "        vertical-align: middle;\n",
       "    }\n",
       "\n",
       "    .dataframe tbody tr th {\n",
       "        vertical-align: top;\n",
       "    }\n",
       "\n",
       "    .dataframe thead th {\n",
       "        text-align: right;\n",
       "    }\n",
       "</style>\n",
       "<table border=\"1\" class=\"dataframe\">\n",
       "  <thead>\n",
       "    <tr style=\"text-align: right;\">\n",
       "      <th></th>\n",
       "      <th>customer_site_id</th>\n",
       "      <th>organization</th>\n",
       "    </tr>\n",
       "  </thead>\n",
       "  <tbody>\n",
       "    <tr>\n",
       "      <th>0</th>\n",
       "      <td>0310</td>\n",
       "      <td>{'id': 6175, 'name': 'Sally Beauty Supply LLC'...</td>\n",
       "    </tr>\n",
       "    <tr>\n",
       "      <th>1</th>\n",
       "      <td>0237</td>\n",
       "      <td>{'id': 6175, 'name': 'Sally Beauty Supply LLC'...</td>\n",
       "    </tr>\n",
       "    <tr>\n",
       "      <th>2</th>\n",
       "      <td>0816</td>\n",
       "      <td>{'id': 6175, 'name': 'Sally Beauty Supply LLC'...</td>\n",
       "    </tr>\n",
       "    <tr>\n",
       "      <th>3</th>\n",
       "      <td>0727</td>\n",
       "      <td>{'id': 5030, 'name': 'Crate and Barrel', 'fb_i...</td>\n",
       "    </tr>\n",
       "    <tr>\n",
       "      <th>4</th>\n",
       "      <td>0237</td>\n",
       "      <td>{'id': 5109, 'name': 'Office Depot', 'fb_id': ...</td>\n",
       "    </tr>\n",
       "    <tr>\n",
       "      <th>5</th>\n",
       "      <td>0254</td>\n",
       "      <td>{'id': 5109, 'name': 'Office Depot', 'fb_id': ...</td>\n",
       "    </tr>\n",
       "    <tr>\n",
       "      <th>6</th>\n",
       "      <td>0527</td>\n",
       "      <td>{'id': 5109, 'name': 'Office Depot', 'fb_id': ...</td>\n",
       "    </tr>\n",
       "    <tr>\n",
       "      <th>7</th>\n",
       "      <td>0344</td>\n",
       "      <td>{'id': 5109, 'name': 'Office Depot', 'fb_id': ...</td>\n",
       "    </tr>\n",
       "    <tr>\n",
       "      <th>8</th>\n",
       "      <td>0952</td>\n",
       "      <td>{'id': 5109, 'name': 'Office Depot', 'fb_id': ...</td>\n",
       "    </tr>\n",
       "  </tbody>\n",
       "</table>\n",
       "</div>"
      ],
      "text/plain": [
       "  customer_site_id                                       organization\n",
       "0             0310  {'id': 6175, 'name': 'Sally Beauty Supply LLC'...\n",
       "1             0237  {'id': 6175, 'name': 'Sally Beauty Supply LLC'...\n",
       "2             0816  {'id': 6175, 'name': 'Sally Beauty Supply LLC'...\n",
       "3             0727  {'id': 5030, 'name': 'Crate and Barrel', 'fb_i...\n",
       "4             0237  {'id': 5109, 'name': 'Office Depot', 'fb_id': ...\n",
       "5             0254  {'id': 5109, 'name': 'Office Depot', 'fb_id': ...\n",
       "6             0527  {'id': 5109, 'name': 'Office Depot', 'fb_id': ...\n",
       "7             0344  {'id': 5109, 'name': 'Office Depot', 'fb_id': ...\n",
       "8             0952  {'id': 5109, 'name': 'Office Depot', 'fb_id': ..."
      ]
     },
     "execution_count": 64,
     "metadata": {},
     "output_type": "execute_result"
    }
   ],
   "source": [
    "sites[['customer_site_id','organization']]"
   ]
  },
  {
   "cell_type": "code",
   "execution_count": null,
   "metadata": {},
   "outputs": [],
   "source": []
  },
  {
   "cell_type": "code",
   "execution_count": 27,
   "metadata": {},
   "outputs": [],
   "source": [
    "NRF_2019 = pd.DataFrame(list(identity['calendars'].aggregate([\n",
    "{\"$match\":{\"name\":\"NRF Calendar\"}},\n",
    "{\"$unwind\":\"$years\"},\n",
    "{\"$match\":{\"years.year\":2019}},\n",
    "{\"$project\":{\"_id\":0,\"name\":1,\"year\":\"$years.year\",\"start_date\":\"$years.start_date\",\"month_mask\":\"$years.month_mask\"}}\n",
    "])))"
   ]
  },
  {
   "cell_type": "code",
   "execution_count": 28,
   "metadata": {},
   "outputs": [
    {
     "data": {
      "text/html": [
       "<div>\n",
       "<style scoped>\n",
       "    .dataframe tbody tr th:only-of-type {\n",
       "        vertical-align: middle;\n",
       "    }\n",
       "\n",
       "    .dataframe tbody tr th {\n",
       "        vertical-align: top;\n",
       "    }\n",
       "\n",
       "    .dataframe thead th {\n",
       "        text-align: right;\n",
       "    }\n",
       "</style>\n",
       "<table border=\"1\" class=\"dataframe\">\n",
       "  <thead>\n",
       "    <tr style=\"text-align: right;\">\n",
       "      <th></th>\n",
       "      <th>month_mask</th>\n",
       "      <th>name</th>\n",
       "      <th>start_date</th>\n",
       "      <th>year</th>\n",
       "    </tr>\n",
       "  </thead>\n",
       "  <tbody>\n",
       "    <tr>\n",
       "      <th>0</th>\n",
       "      <td>[4, 5, 4, 4, 5, 4, 4, 5, 4, 4, 5, 4]</td>\n",
       "      <td>NRF Calendar</td>\n",
       "      <td>2019-02-03</td>\n",
       "      <td>2019</td>\n",
       "    </tr>\n",
       "  </tbody>\n",
       "</table>\n",
       "</div>"
      ],
      "text/plain": [
       "                             month_mask          name start_date  year\n",
       "0  [4, 5, 4, 4, 5, 4, 4, 5, 4, 4, 5, 4]  NRF Calendar 2019-02-03  2019"
      ]
     },
     "execution_count": 28,
     "metadata": {},
     "output_type": "execute_result"
    }
   ],
   "source": [
    "NRF_2019"
   ]
  },
  {
   "cell_type": "code",
   "execution_count": null,
   "metadata": {},
   "outputs": [],
   "source": [
    "report_for = 7 #July"
   ]
  },
  {
   "cell_type": "code",
   "execution_count": null,
   "metadata": {},
   "outputs": [],
   "source": []
  },
  {
   "cell_type": "code",
   "execution_count": null,
   "metadata": {},
   "outputs": [],
   "source": [
    "Payless_traffic.apply(lambda x : x['firstTrafficDate'] + datetime.timedelta(days= x['trafficCount']),axis=1)"
   ]
  },
  {
   "cell_type": "code",
   "execution_count": 62,
   "metadata": {},
   "outputs": [
    {
     "data": {
      "text/plain": [
       "Timestamp('2019-07-07 00:00:00')"
      ]
     },
     "execution_count": 62,
     "metadata": {},
     "output_type": "execute_result"
    }
   ],
   "source": [
    "#year start + past weeks\n",
    "NRF_2019.start_date[0] + datetime.timedelta(weeks = sum(a[:report_for-NRF_2019.start_date[0].month]))"
   ]
  },
  {
   "cell_type": "code",
   "execution_count": 75,
   "metadata": {},
   "outputs": [
    {
     "data": {
      "text/plain": [
       "(Timestamp('2019-07-07 00:00:00'), Timestamp('2019-08-04 00:00:00'))"
      ]
     },
     "execution_count": 75,
     "metadata": {},
     "output_type": "execute_result"
    }
   ],
   "source": [
    "#year start + past weeks : to report month\n",
    "current_start = NRF_2019.start_date[0] + datetime.timedelta(weeks = sum(a[:report_for-NRF_2019.start_date[0].month]))\n",
    "current_end = current_start + datetime.timedelta(weeks = a[report_for-NRF_2019.start_date[0].month])\n",
    "current_start,current_end"
   ]
  },
  {
   "cell_type": "code",
   "execution_count": 82,
   "metadata": {
    "scrolled": true
   },
   "outputs": [
    {
     "data": {
      "text/plain": [
       "[Timestamp('2019-07-07 00:00:00', freq='D'),\n",
       " Timestamp('2019-07-08 00:00:00', freq='D'),\n",
       " Timestamp('2019-07-09 00:00:00', freq='D'),\n",
       " Timestamp('2019-07-10 00:00:00', freq='D'),\n",
       " Timestamp('2019-07-11 00:00:00', freq='D'),\n",
       " Timestamp('2019-07-12 00:00:00', freq='D'),\n",
       " Timestamp('2019-07-13 00:00:00', freq='D'),\n",
       " Timestamp('2019-07-14 00:00:00', freq='D'),\n",
       " Timestamp('2019-07-15 00:00:00', freq='D'),\n",
       " Timestamp('2019-07-16 00:00:00', freq='D'),\n",
       " Timestamp('2019-07-17 00:00:00', freq='D'),\n",
       " Timestamp('2019-07-18 00:00:00', freq='D'),\n",
       " Timestamp('2019-07-19 00:00:00', freq='D'),\n",
       " Timestamp('2019-07-20 00:00:00', freq='D'),\n",
       " Timestamp('2019-07-21 00:00:00', freq='D'),\n",
       " Timestamp('2019-07-22 00:00:00', freq='D'),\n",
       " Timestamp('2019-07-23 00:00:00', freq='D'),\n",
       " Timestamp('2019-07-24 00:00:00', freq='D'),\n",
       " Timestamp('2019-07-25 00:00:00', freq='D'),\n",
       " Timestamp('2019-07-26 00:00:00', freq='D'),\n",
       " Timestamp('2019-07-27 00:00:00', freq='D'),\n",
       " Timestamp('2019-07-28 00:00:00', freq='D'),\n",
       " Timestamp('2019-07-29 00:00:00', freq='D'),\n",
       " Timestamp('2019-07-30 00:00:00', freq='D'),\n",
       " Timestamp('2019-07-31 00:00:00', freq='D'),\n",
       " Timestamp('2019-08-01 00:00:00', freq='D'),\n",
       " Timestamp('2019-08-02 00:00:00', freq='D'),\n",
       " Timestamp('2019-08-03 00:00:00', freq='D')]"
      ]
     },
     "execution_count": 82,
     "metadata": {},
     "output_type": "execute_result"
    }
   ],
   "source": [
    "pd.date_range(current_start,current_end)[:-1].tolist()"
   ]
  },
  {
   "cell_type": "code",
   "execution_count": null,
   "metadata": {},
   "outputs": [],
   "source": []
  },
  {
   "cell_type": "code",
   "execution_count": 34,
   "metadata": {},
   "outputs": [],
   "source": [
    "a = NRF_2019.month_mask[0]"
   ]
  },
  {
   "cell_type": "code",
   "execution_count": 35,
   "metadata": {},
   "outputs": [
    {
     "data": {
      "text/plain": [
       "[4, 5, 4, 4, 5, 4, 4, 5, 4, 4, 5, 4]"
      ]
     },
     "execution_count": 35,
     "metadata": {},
     "output_type": "execute_result"
    }
   ],
   "source": [
    "a"
   ]
  },
  {
   "cell_type": "code",
   "execution_count": 55,
   "metadata": {},
   "outputs": [
    {
     "data": {
      "text/plain": [
       "[4, 5, 4, 4, 5]"
      ]
     },
     "execution_count": 55,
     "metadata": {},
     "output_type": "execute_result"
    }
   ],
   "source": [
    "a[:report_for-NRF_2019.start_date[0].month]"
   ]
  },
  {
   "cell_type": "code",
   "execution_count": 68,
   "metadata": {},
   "outputs": [],
   "source": [
    "num_weeks  = a[report_for-NRF_2019.start_date[0].month]"
   ]
  },
  {
   "cell_type": "code",
   "execution_count": 52,
   "metadata": {},
   "outputs": [],
   "source": [
    "b= [2,3,4,5,6,7,8,9,10,11,12,1]"
   ]
  },
  {
   "cell_type": "code",
   "execution_count": 54,
   "metadata": {},
   "outputs": [
    {
     "data": {
      "text/plain": [
       "[2, 3, 4, 5, 6]"
      ]
     },
     "execution_count": 54,
     "metadata": {},
     "output_type": "execute_result"
    }
   ],
   "source": [
    "b[:report_for-NRF_2019.start_date[0].month] #from the start of the year this current month "
   ]
  },
  {
   "cell_type": "code",
   "execution_count": 66,
   "metadata": {},
   "outputs": [
    {
     "data": {
      "text/plain": [
       "5"
      ]
     },
     "execution_count": 66,
     "metadata": {},
     "output_type": "execute_result"
    }
   ],
   "source": [
    "report_for-NRF_2019.start_date[0].month"
   ]
  },
  {
   "cell_type": "code",
   "execution_count": 65,
   "metadata": {},
   "outputs": [
    {
     "data": {
      "text/plain": [
       "7"
      ]
     },
     "execution_count": 65,
     "metadata": {},
     "output_type": "execute_result"
    }
   ],
   "source": [
    "b[5]"
   ]
  },
  {
   "cell_type": "code",
   "execution_count": 56,
   "metadata": {},
   "outputs": [],
   "source": [
    "c= [1,2,3,4,5,6,7,8,9,10,11,12]"
   ]
  },
  {
   "cell_type": "code",
   "execution_count": null,
   "metadata": {},
   "outputs": [],
   "source": []
  },
  {
   "cell_type": "code",
   "execution_count": 59,
   "metadata": {},
   "outputs": [
    {
     "data": {
      "text/plain": [
       "[2, 3, 4, 5, 6, 7]"
      ]
     },
     "execution_count": 59,
     "metadata": {},
     "output_type": "execute_result"
    }
   ],
   "source": [
    "b[:report_for-1] #from the start of the year this current month "
   ]
  },
  {
   "cell_type": "code",
   "execution_count": 36,
   "metadata": {},
   "outputs": [],
   "source": []
  },
  {
   "cell_type": "code",
   "execution_count": 40,
   "metadata": {},
   "outputs": [
    {
     "data": {
      "text/plain": [
       "4"
      ]
     },
     "execution_count": 40,
     "metadata": {},
     "output_type": "execute_result"
    }
   ],
   "source": [
    "#a[report_for-1] # this month\n",
    "a[report_for-2] # add upto last month "
   ]
  },
  {
   "cell_type": "code",
   "execution_count": 49,
   "metadata": {},
   "outputs": [
    {
     "data": {
      "text/plain": [
       "2"
      ]
     },
     "execution_count": 49,
     "metadata": {},
     "output_type": "execute_result"
    }
   ],
   "source": [
    "NRF_2019.start_date[0].month"
   ]
  },
  {
   "cell_type": "code",
   "execution_count": null,
   "metadata": {},
   "outputs": [],
   "source": []
  }
 ],
 "metadata": {
  "kernelspec": {
   "display_name": "Python 3",
   "language": "python",
   "name": "python3"
  },
  "language_info": {
   "codemirror_mode": {
    "name": "ipython",
    "version": 3
   },
   "file_extension": ".py",
   "mimetype": "text/x-python",
   "name": "python",
   "nbconvert_exporter": "python",
   "pygments_lexer": "ipython3",
   "version": "3.7.1"
  }
 },
 "nbformat": 4,
 "nbformat_minor": 2
}
